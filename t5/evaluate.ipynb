{
 "cells": [
  {
   "cell_type": "code",
   "execution_count": null,
   "metadata": {},
   "outputs": [],
   "source": [
    "import nltk\n",
    "from transformers import T5Tokenizer, AutoModelForSeq2SeqLM\n",
    "from peft import PeftConfig, PeftModel\n",
    "from t5.dataset import load_spider_datasets\n",
    "from t5.inference import inference, evaluate_result"
   ]
  },
  {
   "cell_type": "code",
   "execution_count": null,
   "metadata": {},
   "outputs": [],
   "source": [
    "nltk.download('punkt')"
   ]
  },
  {
   "cell_type": "code",
   "execution_count": null,
   "metadata": {},
   "outputs": [],
   "source": [
    "# parameters\n",
    "\n",
    "tokenizer_name = 't5-base'\n",
    "base_model_name = \"RoxyRong/t5_base_finetuned_test_10\"\n",
    "peft_model_name = \"RoxyRong/t5_base_soft_prompt_vocab_sampling\"\n",
    "result_path = f'results/predicted_result_t5_base_finetuned_10.txt'\n",
    "\n",
    "eval_soft_prompt = False"
   ]
  },
  {
   "cell_type": "code",
   "execution_count": null,
   "metadata": {},
   "outputs": [],
   "source": [
    "# evaluate \n",
    "\n",
    "tokenizer = T5Tokenizer.from_pretrained(tokenizer_name)\n",
    "model = AutoModelForSeq2SeqLM.from_pretrained(base_model_name)\n",
    "\n",
    "if eval_soft_prompt:\n",
    "    peft_model_id = peft_model_name\n",
    "    config = PeftConfig.from_pretrained(peft_model_id)\n",
    "    model = AutoModelForSeq2SeqLM.from_pretrained(\"RoxyRong/t5_base_finetuned_test_5\")\n",
    "    model = PeftModel.from_pretrained(model, peft_model_id)\n",
    "\n",
    "model = model.to(\"cuda\")"
   ]
  },
  {
   "cell_type": "code",
   "execution_count": null,
   "metadata": {},
   "outputs": [],
   "source": [
    "# load dataset\n",
    "_, _, dev_spider = load_spider_datasets()"
   ]
  },
  {
   "cell_type": "code",
   "execution_count": null,
   "metadata": {},
   "outputs": [],
   "source": [
    "# inference\n",
    "inference(dev_spider, model, tokenizer, result_path)"
   ]
  },
  {
   "cell_type": "code",
   "execution_count": null,
   "metadata": {},
   "outputs": [],
   "source": [
    "# evaluate \n",
    "evaluate_result(result_path)"
   ]
  }
 ],
 "metadata": {
  "language_info": {
   "name": "python"
  },
  "orig_nbformat": 4
 },
 "nbformat": 4,
 "nbformat_minor": 2
}
