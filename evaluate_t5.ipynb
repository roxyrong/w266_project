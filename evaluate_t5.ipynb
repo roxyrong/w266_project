{
 "cells": [
  {
   "cell_type": "code",
   "execution_count": 1,
   "metadata": {},
   "outputs": [
    {
     "name": "stderr",
     "output_type": "stream",
     "text": [
      "/home/ubuntu/.local/lib/python3.8/site-packages/pandas/core/computation/expressions.py:20: UserWarning: Pandas requires version '2.7.3' or newer of 'numexpr' (version '2.7.1' currently installed).\n",
      "  from pandas.core.computation.check import NUMEXPR_INSTALLED\n"
     ]
    }
   ],
   "source": [
    "import nltk\n",
    "import torch\n",
    "from transformers import T5Tokenizer, AutoModelForSeq2SeqLM\n",
    "from peft import PeftConfig, PeftModel\n",
    "from t5.dataset import load_spider_datasets\n",
    "from t5.inference import inference, evaluate_result"
   ]
  },
  {
   "cell_type": "code",
   "execution_count": 2,
   "metadata": {},
   "outputs": [
    {
     "name": "stdout",
     "output_type": "stream",
     "text": [
      "True\n"
     ]
    }
   ],
   "source": [
    "print(torch.cuda.is_available())"
   ]
  },
  {
   "cell_type": "code",
   "execution_count": 3,
   "metadata": {},
   "outputs": [
    {
     "name": "stderr",
     "output_type": "stream",
     "text": [
      "[nltk_data] Downloading package punkt to /home/ubuntu/nltk_data...\n",
      "[nltk_data]   Package punkt is already up-to-date!\n"
     ]
    },
    {
     "data": {
      "text/plain": [
       "True"
      ]
     },
     "execution_count": 3,
     "metadata": {},
     "output_type": "execute_result"
    }
   ],
   "source": [
    "nltk.download('punkt')"
   ]
  },
  {
   "cell_type": "code",
   "execution_count": 4,
   "metadata": {},
   "outputs": [],
   "source": [
    "# parameters\n",
    "\n",
    "tokenizer_name = 't5-base'\n",
    "base_model_name = \"RoxyRong/t5_base_finetuned\"\n",
    "peft_model_name = \"RoxyRong/t5_base_soft_prompt_new\"\n",
    "result_path = f'results/predicted_result_t5_base_soft_prompt_new.txt'\n",
    "\n",
    "eval_soft_prompt = True"
   ]
  },
  {
   "cell_type": "code",
   "execution_count": 5,
   "metadata": {},
   "outputs": [
    {
     "name": "stderr",
     "output_type": "stream",
     "text": [
      "You are using the legacy behaviour of the <class 'transformers.models.t5.tokenization_t5.T5Tokenizer'>. This means that tokens that come after special tokens will not be properly handled. We recommend you to read the related pull request available at https://github.com/huggingface/transformers/pull/24565\n"
     ]
    },
    {
     "data": {
      "application/vnd.jupyter.widget-view+json": {
       "model_id": "36146fbe224b4dc3886b579800242539",
       "version_major": 2,
       "version_minor": 0
      },
      "text/plain": [
       "Downloading (…)/adapter_config.json:   0%|          | 0.00/435 [00:00<?, ?B/s]"
      ]
     },
     "metadata": {},
     "output_type": "display_data"
    },
    {
     "data": {
      "application/vnd.jupyter.widget-view+json": {
       "model_id": "fd672620b17340fea0ba29b26e8e663c",
       "version_major": 2,
       "version_minor": 0
      },
      "text/plain": [
       "Downloading adapter_model.bin:   0%|          | 0.00/308k [00:00<?, ?B/s]"
      ]
     },
     "metadata": {},
     "output_type": "display_data"
    }
   ],
   "source": [
    "# evaluate \n",
    "\n",
    "tokenizer = T5Tokenizer.from_pretrained(tokenizer_name, model_max_length=512)\n",
    "model = AutoModelForSeq2SeqLM.from_pretrained(base_model_name)\n",
    "\n",
    "# if eval_soft_prompt:\n",
    "peft_model_id = peft_model_name\n",
    "config = PeftConfig.from_pretrained(peft_model_id)\n",
    "model = PeftModel.from_pretrained(model, peft_model_id)\n",
    "\n",
    "model = model.to(\"cuda\")"
   ]
  },
  {
   "cell_type": "code",
   "execution_count": 6,
   "metadata": {},
   "outputs": [],
   "source": [
    "# load dataset\n",
    "_, _, dev_spider = load_spider_datasets()"
   ]
  },
  {
   "cell_type": "code",
   "execution_count": 7,
   "metadata": {},
   "outputs": [
    {
     "name": "stdout",
     "output_type": "stream",
     "text": [
      "0\n",
      "100\n",
      "200\n",
      "300\n",
      "400\n",
      "500\n",
      "600\n",
      "700\n",
      "800\n",
      "900\n",
      "1000\n"
     ]
    }
   ],
   "source": [
    "# inference\n",
    "inference(dev_spider, model, tokenizer, result_path)"
   ]
  },
  {
   "cell_type": "code",
   "execution_count": 8,
   "metadata": {},
   "outputs": [
    {
     "name": "stdout",
     "output_type": "stream",
     "text": [
      "('                     easy                 medium               '\n",
      " 'hard                 extra                all                 \\n'\n",
      " 'count                250                  440                  '\n",
      " '174                  170                  1034                \\n'\n",
      " '=====================   EXECUTION ACCURACY     =====================\\n'\n",
      " 'execution            0.668                0.416                '\n",
      " '0.322                0.182                0.423               \\n'\n",
      " '\\n'\n",
      " '====================== EXACT MATCHING ACCURACY =====================\\n'\n",
      " 'exact match          0.720                0.425                '\n",
      " '0.316                0.141                0.431               \\n'\n",
      " '\\n'\n",
      " '---------------------PARTIAL MATCHING ACCURACY----------------------\\n'\n",
      " 'select               0.960                0.920                '\n",
      " '0.977                0.864                0.936               \\n'\n",
      " 'select(no AGG)       0.975                0.932                '\n",
      " '0.988                0.881                0.950               \\n'\n",
      " 'where                0.900                0.795                '\n",
      " '0.600                0.500                0.766               \\n'\n",
      " 'where(no OP)         0.925                0.818                '\n",
      " '0.657                0.750                0.823               \\n'\n",
      " 'group(no Having)     0.882                0.923                '\n",
      " '0.900                0.765                0.881               \\n'\n",
      " 'group                0.882                0.885                '\n",
      " '0.900                0.735                0.855               \\n'\n",
      " 'order                0.833                0.772                '\n",
      " '0.868                0.778                0.806               \\n'\n",
      " 'and/or               1.000                0.957                '\n",
      " '0.907                0.871                0.945               \\n'\n",
      " 'IUEN                 0.000                0.000                '\n",
      " '0.583                0.667                0.500               \\n'\n",
      " 'keywords             0.917                0.895                '\n",
      " '0.829                0.763                0.873               \\n'\n",
      " '---------------------- PARTIAL MATCHING RECALL ----------------------\\n'\n",
      " 'select               0.764                0.525                '\n",
      " '0.483                0.300                0.539               \\n'\n",
      " 'select(no AGG)       0.776                0.532                '\n",
      " '0.489                0.306                0.546               \\n'\n",
      " 'where                0.667                0.393                '\n",
      " '0.228                0.143                0.372               \\n'\n",
      " 'where(no OP)         0.685                0.404                '\n",
      " '0.250                0.214                0.399               \\n'\n",
      " 'group(no Having)     0.750                0.550                '\n",
      " '0.692                0.329                0.520               \\n'\n",
      " 'group                0.750                0.527                '\n",
      " '0.692                0.316                0.506               \\n'\n",
      " 'order                0.909                0.587                '\n",
      " '0.559                0.346                0.527               \\n'\n",
      " 'and/or               1.000                1.000                '\n",
      " '0.987                0.993                0.997               \\n'\n",
      " 'IUEN                 0.000                0.000                '\n",
      " '0.167                0.111                0.141               \\n'\n",
      " 'keywords             0.733                0.505                '\n",
      " '0.391                0.265                0.475               \\n'\n",
      " '---------------------- PARTIAL MATCHING F1 --------------------------\\n'\n",
      " 'select               0.851                0.669                '\n",
      " '0.646                0.445                0.684               \\n'\n",
      " 'select(no AGG)       0.864                0.677                '\n",
      " '0.654                0.454                0.694               \\n'\n",
      " 'where                0.766                0.526                '\n",
      " '0.331                0.222                0.501               \\n'\n",
      " 'where(no OP)         0.787                0.541                '\n",
      " '0.362                0.333                0.537               \\n'\n",
      " 'group(no Having)     0.811                0.689                '\n",
      " '0.783                0.460                0.654               \\n'\n",
      " 'group                0.811                0.660                '\n",
      " '0.783                0.442                0.636               \\n'\n",
      " 'order                0.870                0.667                '\n",
      " '0.680                0.479                0.638               \\n'\n",
      " 'and/or               1.000                0.978                '\n",
      " '0.945                0.928                0.970               \\n'\n",
      " 'IUEN                 1.000                1.000                '\n",
      " '0.259                0.190                0.220               \\n'\n",
      " 'keywords             0.815                0.646                '\n",
      " '0.531                0.393                0.615               \\n')\n"
     ]
    }
   ],
   "source": [
    "# evaluate \n",
    "evaluate_result(result_path)"
   ]
  },
  {
   "cell_type": "code",
   "execution_count": 9,
   "metadata": {},
   "outputs": [
    {
     "name": "stdout",
     "output_type": "stream",
     "text": [
      "('                     easy                 medium               '\n",
      " 'hard                 extra                all                 \\n'\n",
      " 'count                250                  440                  '\n",
      " '174                  170                  1034                \\n'\n",
      " '=====================   EXECUTION ACCURACY     =====================\\n'\n",
      " 'execution            0.668                0.416                '\n",
      " '0.322                0.182                0.423               \\n'\n",
      " '\\n'\n",
      " '====================== EXACT MATCHING ACCURACY =====================\\n'\n",
      " 'exact match          0.720                0.425                '\n",
      " '0.316                0.141                0.431               \\n'\n",
      " '\\n'\n",
      " '---------------------PARTIAL MATCHING ACCURACY----------------------\\n'\n",
      " 'select               0.960                0.920                '\n",
      " '0.977                0.864                0.936               \\n'\n",
      " 'select(no AGG)       0.975                0.932                '\n",
      " '0.988                0.881                0.950               \\n'\n",
      " 'where                0.900                0.795                '\n",
      " '0.600                0.500                0.766               \\n'\n",
      " 'where(no OP)         0.925                0.818                '\n",
      " '0.657                0.750                0.823               \\n'\n",
      " 'group(no Having)     0.882                0.923                '\n",
      " '0.900                0.765                0.881               \\n'\n",
      " 'group                0.882                0.885                '\n",
      " '0.900                0.735                0.855               \\n'\n",
      " 'order                0.833                0.772                '\n",
      " '0.868                0.778                0.806               \\n'\n",
      " 'and/or               1.000                0.957                '\n",
      " '0.907                0.871                0.945               \\n'\n",
      " 'IUEN                 0.000                0.000                '\n",
      " '0.583                0.667                0.500               \\n'\n",
      " 'keywords             0.917                0.895                '\n",
      " '0.829                0.763                0.873               \\n'\n",
      " '---------------------- PARTIAL MATCHING RECALL ----------------------\\n'\n",
      " 'select               0.764                0.525                '\n",
      " '0.483                0.300                0.539               \\n'\n",
      " 'select(no AGG)       0.776                0.532                '\n",
      " '0.489                0.306                0.546               \\n'\n",
      " 'where                0.667                0.393                '\n",
      " '0.228                0.143                0.372               \\n'\n",
      " 'where(no OP)         0.685                0.404                '\n",
      " '0.250                0.214                0.399               \\n'\n",
      " 'group(no Having)     0.750                0.550                '\n",
      " '0.692                0.329                0.520               \\n'\n",
      " 'group                0.750                0.527                '\n",
      " '0.692                0.316                0.506               \\n'\n",
      " 'order                0.909                0.587                '\n",
      " '0.559                0.346                0.527               \\n'\n",
      " 'and/or               1.000                1.000                '\n",
      " '0.987                0.993                0.997               \\n'\n",
      " 'IUEN                 0.000                0.000                '\n",
      " '0.167                0.111                0.141               \\n'\n",
      " 'keywords             0.733                0.505                '\n",
      " '0.391                0.265                0.475               \\n'\n",
      " '---------------------- PARTIAL MATCHING F1 --------------------------\\n'\n",
      " 'select               0.851                0.669                '\n",
      " '0.646                0.445                0.684               \\n'\n",
      " 'select(no AGG)       0.864                0.677                '\n",
      " '0.654                0.454                0.694               \\n'\n",
      " 'where                0.766                0.526                '\n",
      " '0.331                0.222                0.501               \\n'\n",
      " 'where(no OP)         0.787                0.541                '\n",
      " '0.362                0.333                0.537               \\n'\n",
      " 'group(no Having)     0.811                0.689                '\n",
      " '0.783                0.460                0.654               \\n'\n",
      " 'group                0.811                0.660                '\n",
      " '0.783                0.442                0.636               \\n'\n",
      " 'order                0.870                0.667                '\n",
      " '0.680                0.479                0.638               \\n'\n",
      " 'and/or               1.000                0.978                '\n",
      " '0.945                0.928                0.970               \\n'\n",
      " 'IUEN                 1.000                1.000                '\n",
      " '0.259                0.190                0.220               \\n'\n",
      " 'keywords             0.815                0.646                '\n",
      " '0.531                0.393                0.615               \\n')\n"
     ]
    }
   ],
   "source": [
    "import subprocess\n",
    "import pprint\n",
    "\n",
    "eval_path = f\"third_party/spider/evaluation.py\"\n",
    "gold = f\"third_party/spider/evaluation_examples/gold_example.txt\"\n",
    "pred = result_path\n",
    "db_dir = f\"spider/database\"\n",
    "table = f\"spider/tables.json\"\n",
    "etype = \"all\"\n",
    "\n",
    "cmd_str = f\"python3 \\\"{eval_path}\\\" --gold \\\"{gold}\\\" --pred \\\"{pred}\\\" --db \\\"{db_dir}\\\" --table \\\"{table}\\\" --etype {etype} \"\n",
    "result = subprocess.run(cmd_str, shell=True, capture_output=True, text=True)\n",
    "pprint.pprint(result.stdout[-4633:])"
   ]
  },
  {
   "cell_type": "code",
   "execution_count": null,
   "metadata": {},
   "outputs": [],
   "source": []
  }
 ],
 "metadata": {
  "kernelspec": {
   "display_name": "Python 3",
   "language": "python",
   "name": "python3"
  },
  "language_info": {
   "codemirror_mode": {
    "name": "ipython",
    "version": 3
   },
   "file_extension": ".py",
   "mimetype": "text/x-python",
   "name": "python",
   "nbconvert_exporter": "python",
   "pygments_lexer": "ipython3",
   "version": "3.8.10"
  }
 },
 "nbformat": 4,
 "nbformat_minor": 2
}
