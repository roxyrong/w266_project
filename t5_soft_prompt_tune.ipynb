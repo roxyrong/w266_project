{
 "cells": [
  {
   "cell_type": "code",
   "execution_count": 1,
   "metadata": {},
   "outputs": [
    {
     "name": "stderr",
     "output_type": "stream",
     "text": [
      "/home/ubuntu/.local/lib/python3.8/site-packages/pandas/core/computation/expressions.py:20: UserWarning: Pandas requires version '2.7.3' or newer of 'numexpr' (version '2.7.1' currently installed).\n",
      "  from pandas.core.computation.check import NUMEXPR_INSTALLED\n",
      "[nltk_data] Downloading package stopwords to /home/ubuntu/nltk_data...\n",
      "[nltk_data]   Package stopwords is already up-to-date!\n"
     ]
    }
   ],
   "source": [
    "import numpy as np\n",
    "import pandas as pd\n",
    "import torch\n",
    "\n",
    "import nltk\n",
    "import torch\n",
    "from transformers import T5Tokenizer, AutoModelForSeq2SeqLM\n",
    "from transformers.optimization import Adafactor, AdafactorSchedule\n",
    "from transformers import EarlyStoppingCallback\n",
    "from peft import get_peft_model, PeftConfig, PeftModel, PromptEmbedding\n",
    "from t5.dataset import load_spider_datasets, DatasetIterator\n",
    "from t5.model import BaseModel, set_train_arguments\n",
    "from t5.prompt_tuning import *"
   ]
  },
  {
   "cell_type": "code",
   "execution_count": 2,
   "metadata": {},
   "outputs": [
    {
     "name": "stderr",
     "output_type": "stream",
     "text": [
      "[nltk_data] Downloading package punkt to /home/ubuntu/nltk_data...\n",
      "[nltk_data]   Package punkt is already up-to-date!\n"
     ]
    },
    {
     "data": {
      "text/plain": [
       "True"
      ]
     },
     "execution_count": 2,
     "metadata": {},
     "output_type": "execute_result"
    }
   ],
   "source": [
    "nltk.download('punkt')"
   ]
  },
  {
   "cell_type": "code",
   "execution_count": 3,
   "metadata": {},
   "outputs": [
    {
     "name": "stdout",
     "output_type": "stream",
     "text": [
      "Token will not been saved to git credential helper. Pass `add_to_git_credential=True` if you want to set the git credential as well.\n",
      "Token is valid (permission: write).\n",
      "Your token has been saved to /home/ubuntu/.cache/huggingface/token\n",
      "Login successful\n"
     ]
    }
   ],
   "source": [
    "!huggingface-cli login --token"
   ]
  },
  {
   "cell_type": "code",
   "execution_count": 4,
   "metadata": {},
   "outputs": [
    {
     "name": "stdout",
     "output_type": "stream",
     "text": [
      "True\n"
     ]
    }
   ],
   "source": [
    "print(torch.cuda.is_available())"
   ]
  },
  {
   "cell_type": "markdown",
   "metadata": {},
   "source": [
    "## Dataset"
   ]
  },
  {
   "cell_type": "code",
   "execution_count": 5,
   "metadata": {},
   "outputs": [],
   "source": [
    "train_spider, others_spider, dev_spider = load_spider_datasets()\n",
    "train_spider = train_spider.iloc[np.random.permutation(train_spider.index)].reset_index(drop=True)\n",
    "others_spider = train_spider.iloc[np.random.permutation(others_spider.index)].reset_index(drop=True)"
   ]
  },
  {
   "cell_type": "markdown",
   "metadata": {},
   "source": [
    "## Model Parameters"
   ]
  },
  {
   "cell_type": "code",
   "execution_count": 6,
   "metadata": {},
   "outputs": [
    {
     "name": "stdout",
     "output_type": "stream",
     "text": [
      "train_path: results/t5-base_soft_prompt_tune_3\n",
      "model_path: results/t5-base_soft_prompt_tune_3/t5-base_soft_prompt_tune_3\n"
     ]
    }
   ],
   "source": [
    "model_name = \"t5-base\"\n",
    "technique = \"soft_prompt_tune\"\n",
    "version = 3\n",
    "checkpoint = 438\n",
    "\n",
    "folder_name = f\"{model_name}_{technique}_{version}\"\n",
    "train_path = f\"results/{folder_name}\"\n",
    "model_path = train_path + f'/{folder_name}'\n",
    "last_check_point = train_path + f'/checkpoint-{checkpoint}'\n",
    "\n",
    "# model name on hugging face\n",
    "hug_model_name = \"RoxyRong/t5_base_soft_prompt_label_embedding\"\n",
    "\n",
    "print(\"train_path:\", train_path)\n",
    "print(\"model_path:\", model_path)"
   ]
  },
  {
   "cell_type": "code",
   "execution_count": 7,
   "metadata": {},
   "outputs": [],
   "source": [
    "# soft prompt tuning param\n",
    "num_tokens = 100\n",
    "\n",
    "base_model_name = \"RoxyRong/t5_base_finetuned\"\n",
    "\n",
    "tokenizer = T5Tokenizer.from_pretrained(model_name, model_max_length=512, legacy=False)\n",
    "\n",
    "# init_text = init_random_vocab_from_tokenizer(tokenizer=tokenizer)\n",
    "# init_embedding = init_label_embedding(train_spider, tokenizer)\n",
    "\n",
    "peft_config = set_peft_config_with_random_init(num_tokens=num_tokens)\n",
    "# peft_config = set_peft_config_with_init_text(init_text=init_text, num_tokens=num_tokens)\n",
    "# peft_config = set_peft_config_with_embedding(init_embedding=init_embedding, num_tokens=num_tokens) \n",
    "# peft_config = PeftConfig.from_pretrained(last_check_point)\n",
    "model = AutoModelForSeq2SeqLM.from_pretrained(base_model_name)\n",
    "model = get_peft_model(model, peft_config)"
   ]
  },
  {
   "cell_type": "code",
   "execution_count": 8,
   "metadata": {},
   "outputs": [
    {
     "name": "stdout",
     "output_type": "stream",
     "text": [
      "Parameter containing:\n",
      "tensor([[-1.1505,  1.1346,  0.7719,  ...,  1.2266, -0.7035, -0.1980],\n",
      "        [-0.1068,  1.5342, -0.5477,  ..., -0.1487, -0.8666, -0.6342],\n",
      "        [-0.2080, -1.7353, -0.3698,  ...,  1.4854, -0.4342,  0.8234],\n",
      "        ...,\n",
      "        [ 0.7859,  0.3043,  1.5054,  ..., -0.3675,  1.5332,  0.0957],\n",
      "        [ 0.4412, -0.2100,  1.3893,  ..., -0.4516, -1.1279, -0.1571],\n",
      "        [ 0.5033, -0.2446, -0.5827,  ..., -0.4625,  0.8803,  0.4667]],\n",
      "       requires_grad=True)\n"
     ]
    }
   ],
   "source": [
    "# print(model.print_trainable_parameters())\n",
    "print(PromptEmbedding(peft_config, model.shared).embedding.weight)"
   ]
  },
  {
   "cell_type": "markdown",
   "metadata": {},
   "source": [
    "## Model Training"
   ]
  },
  {
   "cell_type": "code",
   "execution_count": 9,
   "metadata": {},
   "outputs": [],
   "source": [
    "max_load_at_once = 100\n",
    "\n",
    "train_data_iterator = DatasetIterator(\n",
    "    df=train_spider,\n",
    "    tokenizer=tokenizer,\n",
    "    max_load_at_once=max_load_at_once,\n",
    ")\n",
    "\n",
    "valid_data_iterator = DatasetIterator(\n",
    "    df=others_spider,\n",
    "    tokenizer=tokenizer,\n",
    "    max_load_at_once=max_load_at_once,\n",
    ")"
   ]
  },
  {
   "cell_type": "code",
   "execution_count": 10,
   "metadata": {},
   "outputs": [],
   "source": [
    "batch_size = 16\n",
    "num_epochs = 5\n",
    "learning_rate=0.3"
   ]
  },
  {
   "cell_type": "code",
   "execution_count": 11,
   "metadata": {},
   "outputs": [],
   "source": [
    "optimizer = Adafactor(\n",
    "        model.parameters(),\n",
    "        weight_decay=1e-5,\n",
    "        decay_rate=-0.8,\n",
    "        scale_parameter=False, \n",
    "        relative_step=True,\n",
    "        warmup_init=True, \n",
    "    )\n",
    "scheduler = AdafactorSchedule(optimizer)\n",
    "\n",
    "early_stopping_callback = EarlyStoppingCallback(early_stopping_patience=2)\n",
    "\n",
    "args = set_train_arguments(\n",
    "    train_path=train_path,\n",
    "    batch_size=batch_size,\n",
    "    num_epochs=num_epochs,\n",
    "    learning_rate=learning_rate,\n",
    "    load_best_model_at_end=True\n",
    ")"
   ]
  },
  {
   "cell_type": "code",
   "execution_count": 12,
   "metadata": {},
   "outputs": [],
   "source": [
    "trainer = BaseModel(\n",
    "    model=model,\n",
    "    train_data_iterator = train_data_iterator,\n",
    "    valid_data_iterator = valid_data_iterator,\n",
    "    seq2seq_train_args = args,\n",
    "    optimizers=(optimizer, scheduler),\n",
    "    callbacks=[early_stopping_callback]\n",
    ")"
   ]
  },
  {
   "cell_type": "code",
   "execution_count": 73,
   "metadata": {},
   "outputs": [
    {
     "data": {
      "text/html": [
       "\n",
       "    <div>\n",
       "      \n",
       "      <progress value='485' max='2190' style='width:300px; height:20px; vertical-align: middle;'></progress>\n",
       "      [ 485/2190 07:48 < 27:32, 1.03 it/s, Epoch 1.11/5]\n",
       "    </div>\n",
       "    <table border=\"1\" class=\"dataframe\">\n",
       "  <thead>\n",
       " <tr style=\"text-align: left;\">\n",
       "      <th>Epoch</th>\n",
       "      <th>Training Loss</th>\n",
       "      <th>Validation Loss</th>\n",
       "    </tr>\n",
       "  </thead>\n",
       "  <tbody>\n",
       "    <tr>\n",
       "      <td>1</td>\n",
       "      <td>No log</td>\n",
       "      <td>0.006150</td>\n",
       "    </tr>\n",
       "  </tbody>\n",
       "</table><p>"
      ],
      "text/plain": [
       "<IPython.core.display.HTML object>"
      ]
     },
     "metadata": {},
     "output_type": "display_data"
    }
   ],
   "source": [
    "# train from scratch\n",
    "trainer.train()\n",
    "\n",
    "# train from checkpoint\n",
    "# trainer.train_from_checkpoint(last_check_point=last_check_point)"
   ]
  },
  {
   "cell_type": "code",
   "execution_count": 48,
   "metadata": {},
   "outputs": [],
   "source": [
    "trainer.evaluate()"
   ]
  },
  {
   "cell_type": "code",
   "execution_count": 49,
   "metadata": {},
   "outputs": [],
   "source": [
    "trainer.model_save(model_path=model_path)\n",
    "trainer.model_upload(hug_model_name=hug_model_name)"
   ]
  },
  {
   "cell_type": "code",
   "execution_count": null,
   "metadata": {},
   "outputs": [],
   "source": []
  }
 ],
 "metadata": {
  "kernelspec": {
   "display_name": "Python 3",
   "language": "python",
   "name": "python3"
  },
  "language_info": {
   "codemirror_mode": {
    "name": "ipython",
    "version": 3
   },
   "file_extension": ".py",
   "mimetype": "text/x-python",
   "name": "python",
   "nbconvert_exporter": "python",
   "pygments_lexer": "ipython3",
   "version": "3.8.10"
  }
 },
 "nbformat": 4,
 "nbformat_minor": 2
}
