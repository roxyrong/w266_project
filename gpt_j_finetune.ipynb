{
 "cells": [
  {
   "cell_type": "code",
   "execution_count": 1,
   "id": "dc81619c-706b-479c-a755-cb28a114d5b0",
   "metadata": {},
   "outputs": [
    {
     "name": "stderr",
     "output_type": "stream",
     "text": [
      "/home/ubuntu/.local/lib/python3.8/site-packages/pandas/core/computation/expressions.py:20: UserWarning: Pandas requires version '2.7.3' or newer of 'numexpr' (version '2.7.1' currently installed).\n",
      "  from pandas.core.computation.check import NUMEXPR_INSTALLED\n",
      "[nltk_data] Downloading package punkt to /home/ubuntu/nltk_data...\n",
      "[nltk_data]   Package punkt is already up-to-date!\n"
     ]
    },
    {
     "data": {
      "text/plain": [
       "True"
      ]
     },
     "execution_count": 1,
     "metadata": {},
     "output_type": "execute_result"
    }
   ],
   "source": [
    "import numpy as np\n",
    "import pandas as pd\n",
    "import gc\n",
    "import nltk\n",
    "import torch\n",
    "from transformers import AutoTokenizer, AutoModelForCausalLM\n",
    "\n",
    "from gpt_j.dataset import load_spider_datasets, DatasetIterator\n",
    "from gpt_j.gpt_j import GPTJForCausalLM\n",
    "from t5.model import BaseModel, set_train_arguments\n",
    "nltk.download('punkt')"
   ]
  },
  {
   "cell_type": "code",
   "execution_count": 2,
   "id": "7fd2bcaf-3535-4d74-a999-981c62ee4eda",
   "metadata": {},
   "outputs": [
    {
     "name": "stdout",
     "output_type": "stream",
     "text": [
      "Token will not been saved to git credential helper. Pass `add_to_git_credential=True` if you want to set the git credential as well.\n",
      "Token is valid (permission: write).\n",
      "Your token has been saved to /home/ubuntu/.cache/huggingface/token\n",
      "Login successful\n"
     ]
    }
   ],
   "source": [
    "!huggingface-cli login --token "
   ]
  },
  {
   "cell_type": "code",
   "execution_count": 3,
   "id": "215fcafb-ed8f-434c-96fa-a7a8c5d7e578",
   "metadata": {},
   "outputs": [
    {
     "name": "stdout",
     "output_type": "stream",
     "text": [
      "True\n"
     ]
    }
   ],
   "source": [
    "print(torch.cuda.is_available())"
   ]
  },
  {
   "cell_type": "markdown",
   "id": "384f1568-7d72-4087-bc13-8a70b2caf086",
   "metadata": {},
   "source": [
    "## Model Parameters"
   ]
  },
  {
   "cell_type": "code",
   "execution_count": 4,
   "id": "e5dbc37b-56c4-470a-b579-061cc3828fa9",
   "metadata": {},
   "outputs": [
    {
     "name": "stdout",
     "output_type": "stream",
     "text": [
      "train_path: results/gpt-j-6B-8bit_fine_tuned_1\n",
      "model_path: results/gpt-j-6B-8bit_fine_tuned_1/gpt-j-6B-8bit_fine_tuned_1\n"
     ]
    }
   ],
   "source": [
    "model_name = \"gpt-j-6B-8bit\"\n",
    "technique = \"fine_tuned\"\n",
    "version = 1\n",
    "checkpoint = 2190\n",
    "\n",
    "folder_name = f\"{model_name}_{technique}_{version}\"\n",
    "train_path = f\"results/{folder_name}\"\n",
    "model_path = train_path + f'/{folder_name}'\n",
    "last_check_point = train_path + f'/checkpoint-{checkpoint}'\n",
    "\n",
    "hug_model_name = \"RoxyRong/gptj_base_finetuned\"\n",
    "\n",
    "print(\"train_path:\", train_path)\n",
    "print(\"model_path:\", model_path)"
   ]
  },
  {
   "cell_type": "code",
   "execution_count": 5,
   "id": "b44517ff-9bb5-4b42-9398-b290dd86a9dc",
   "metadata": {},
   "outputs": [],
   "source": [
    "tokenizer = AutoTokenizer.from_pretrained(\"EleutherAI/gpt-j-6B\", padding_side=\"left\")\n",
    "tokenizer.add_special_tokens({'pad_token': tokenizer.eos_token})\n",
    "model = GPTJForCausalLM.from_pretrained(\"hivemind/gpt-j-6B-8bit\", low_cpu_mem_usage=True)\n",
    "model = model.to(\"cuda\")"
   ]
  },
  {
   "cell_type": "markdown",
   "id": "4b3edb69-46a1-4757-bad3-e71557fd2b4d",
   "metadata": {},
   "source": [
    "## Dataset"
   ]
  },
  {
   "cell_type": "code",
   "execution_count": 6,
   "id": "dfef0423-6f20-430e-8207-bf48d67aba8d",
   "metadata": {},
   "outputs": [],
   "source": [
    "train_spider, others_spider, dev_spider = load_spider_datasets()\n",
    "train_spider = train_spider.iloc[np.random.permutation(train_spider.index)].reset_index(drop=True)\n",
    "others_spider = train_spider.iloc[np.random.permutation(others_spider.index)].reset_index(drop=True)"
   ]
  },
  {
   "cell_type": "code",
   "execution_count": 7,
   "id": "735335eb-7144-405e-8ffc-ec8261ed6b83",
   "metadata": {},
   "outputs": [],
   "source": [
    "orig_encoded = tokenizer.batch_encode_plus(\n",
    "    [train_spider.iloc[0]['prompt']],\n",
    "    padding='max_length',\n",
    "    truncation=True,\n",
    "    return_attention_mask=True,\n",
    "    max_length=1024,\n",
    "    return_tensors=\"pt\"\n",
    ")\n",
    "\n",
    "orig_input_ids = orig_encoded['input_ids'][0]\n",
    "orig_attention_mask = orig_encoded['attention_mask'][0]\n",
    "\n",
    "target_encoded = tokenizer.batch_encode_plus(\n",
    "    [train_spider.iloc[0]['query']],\n",
    "    truncation=True,\n",
    "    return_attention_mask=False,\n",
    "    return_tensors='pt'\n",
    ")\n",
    "\n",
    "label_ids = target_encoded['input_ids'][0]"
   ]
  },
  {
   "cell_type": "code",
   "execution_count": 8,
   "id": "d16530e9-feae-41f2-b7be-35e9e4925bc8",
   "metadata": {},
   "outputs": [],
   "source": [
    "max_load_at_once = 10\n",
    "\n",
    "train_data_iterator = DatasetIterator(\n",
    "    df=train_spider,\n",
    "    tokenizer=tokenizer,\n",
    "    max_load_at_once=max_load_at_once,\n",
    "    input_max_length=128, \n",
    "    output_max_length=128\n",
    ")\n",
    "\n",
    "valid_data_iterator = DatasetIterator(\n",
    "    df=others_spider,\n",
    "    tokenizer=tokenizer,\n",
    "    max_load_at_once=max_load_at_once,\n",
    "    input_max_length=128, \n",
    "    output_max_length=128\n",
    ")"
   ]
  },
  {
   "cell_type": "code",
   "execution_count": null,
   "id": "fbbbb9ee-3c5b-41f0-80c6-3de42c4d3e06",
   "metadata": {},
   "outputs": [],
   "source": [
    "gc.collect()"
   ]
  },
  {
   "cell_type": "markdown",
   "id": "c8f191cb-8b28-4200-b4f4-c91d461337f9",
   "metadata": {},
   "source": [
    "## Model Training"
   ]
  },
  {
   "cell_type": "code",
   "execution_count": 9,
   "id": "e5ea57a0-8d6e-4818-af60-80bfc6a3206a",
   "metadata": {},
   "outputs": [],
   "source": [
    "batch_size = 8\n",
    "num_epochs = 1\n",
    "learning_rate=0.0001"
   ]
  },
  {
   "cell_type": "code",
   "execution_count": 10,
   "id": "52df5ab2-298d-41e1-a317-affb06b03be7",
   "metadata": {},
   "outputs": [],
   "source": [
    "args = set_train_arguments(\n",
    "    train_path=train_path,\n",
    "    batch_size=batch_size,\n",
    "    num_epochs=num_epochs,\n",
    "    learning_rate=learning_rate,\n",
    ")"
   ]
  },
  {
   "cell_type": "code",
   "execution_count": 11,
   "id": "0ddd8e5a-6eef-4f21-939a-f2289e33bde6",
   "metadata": {},
   "outputs": [],
   "source": [
    "trainer = BaseModel(\n",
    "    model=model,\n",
    "    train_data_iterator = train_data_iterator,\n",
    "    valid_data_iterator = valid_data_iterator,\n",
    "    seq2seq_train_args = args,\n",
    ")"
   ]
  },
  {
   "cell_type": "code",
   "execution_count": null,
   "id": "e9033145-d982-45dc-80f7-d99a4f9db9a2",
   "metadata": {},
   "outputs": [
    {
     "name": "stderr",
     "output_type": "stream",
     "text": [
      "/home/ubuntu/.local/lib/python3.8/site-packages/transformers/optimization.py:411: FutureWarning: This implementation of AdamW is deprecated and will be removed in a future version. Use the PyTorch implementation torch.optim.AdamW instead, or set `no_deprecation_warning=True` to disable this warning\n",
      "  warnings.warn(\n"
     ]
    },
    {
     "data": {
      "text/html": [
       "\n",
       "    <div>\n",
       "      \n",
       "      <progress value='54' max='875' style='width:300px; height:20px; vertical-align: middle;'></progress>\n",
       "      [ 54/875 02:02 < 32:08, 0.43 it/s, Epoch 0.06/1]\n",
       "    </div>\n",
       "    <table border=\"1\" class=\"dataframe\">\n",
       "  <thead>\n",
       " <tr style=\"text-align: left;\">\n",
       "      <th>Epoch</th>\n",
       "      <th>Training Loss</th>\n",
       "      <th>Validation Loss</th>\n",
       "    </tr>\n",
       "  </thead>\n",
       "  <tbody>\n",
       "  </tbody>\n",
       "</table><p>"
      ],
      "text/plain": [
       "<IPython.core.display.HTML object>"
      ]
     },
     "metadata": {},
     "output_type": "display_data"
    }
   ],
   "source": [
    "# train from scratch\n",
    "trainer.train()\n",
    "\n",
    "# train from checkpoint\n",
    "# trainer.train_from_checkpoint(last_check_point=last_check_point)"
   ]
  },
  {
   "cell_type": "code",
   "execution_count": null,
   "id": "627c0c77-6404-4563-83c5-7a5138ff2d7b",
   "metadata": {},
   "outputs": [],
   "source": [
    "trainer.evaluate()"
   ]
  },
  {
   "cell_type": "code",
   "execution_count": null,
   "id": "e78932f6-1f82-422a-9f3e-e6c94f1eb999",
   "metadata": {},
   "outputs": [],
   "source": [
    "# trainer.model_save(model_path=model_path)\n",
    "trainer.model_upload(hug_model_name=hug_model_name)"
   ]
  },
  {
   "cell_type": "code",
   "execution_count": null,
   "id": "89df75cb-1c0d-4f59-92a3-51b1f252cb1f",
   "metadata": {},
   "outputs": [],
   "source": []
  }
 ],
 "metadata": {
  "kernelspec": {
   "display_name": "Python 3",
   "language": "python",
   "name": "python3"
  },
  "language_info": {
   "codemirror_mode": {
    "name": "ipython",
    "version": 3
   },
   "file_extension": ".py",
   "mimetype": "text/x-python",
   "name": "python",
   "nbconvert_exporter": "python",
   "pygments_lexer": "ipython3",
   "version": "3.8.10"
  }
 },
 "nbformat": 4,
 "nbformat_minor": 5
}
