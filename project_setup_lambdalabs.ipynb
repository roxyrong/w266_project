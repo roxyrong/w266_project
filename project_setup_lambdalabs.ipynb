{
 "cells": [
  {
   "cell_type": "markdown",
   "metadata": {
    "colab_type": "text",
    "id": "view-in-github"
   },
   "source": [
    "<a href=\"https://colab.research.google.com/github/roxyrong/w266_project/blob/main/project_setup.ipynb\" target=\"_parent\"><img src=\"https://colab.research.google.com/assets/colab-badge.svg\" alt=\"Open In Colab\"/></a>"
   ]
  },
  {
   "cell_type": "code",
   "execution_count": 20,
   "metadata": {},
   "outputs": [
    {
     "name": "stdout",
     "output_type": "stream",
     "text": [
      "/home/ubuntu\n"
     ]
    }
   ],
   "source": [
    "%cd"
   ]
  },
  {
   "cell_type": "code",
   "execution_count": 21,
   "metadata": {},
   "outputs": [
    {
     "name": "stdout",
     "output_type": "stream",
     "text": [
      "fatal: destination path 'w266_project' already exists and is not an empty directory.\n",
      "/home/ubuntu/w266_project\n"
     ]
    }
   ],
   "source": [
    "!git clone https://github.com/roxyrong/w266_project.git\n",
    "%cd w266_project"
   ]
  },
  {
   "cell_type": "code",
   "execution_count": 22,
   "metadata": {
    "id": "E3R-RKFITpLq"
   },
   "outputs": [
    {
     "name": "stdout",
     "output_type": "stream",
     "text": [
      "Defaulting to user installation because normal site-packages is not writeable\n",
      "Requirement already satisfied: gdown in /home/ubuntu/.local/lib/python3.8/site-packages (4.7.1)\n",
      "Requirement already satisfied: six in /usr/lib/python3/dist-packages (from gdown) (1.14.0)\n",
      "Requirement already satisfied: requests[socks] in /home/ubuntu/.local/lib/python3.8/site-packages (from gdown) (2.28.2)\n",
      "Requirement already satisfied: beautifulsoup4 in /usr/lib/python3/dist-packages (from gdown) (4.8.2)\n",
      "Requirement already satisfied: tqdm in /home/ubuntu/.local/lib/python3.8/site-packages (from gdown) (4.64.1)\n",
      "Requirement already satisfied: filelock in /usr/lib/python3/dist-packages (from gdown) (3.0.12)\n",
      "Requirement already satisfied: urllib3<1.27,>=1.21.1 in /usr/lib/python3/dist-packages (from requests[socks]->gdown) (1.25.8)\n",
      "Requirement already satisfied: certifi>=2017.4.17 in /usr/lib/python3/dist-packages (from requests[socks]->gdown) (2019.11.28)\n",
      "Requirement already satisfied: charset-normalizer<4,>=2 in /home/ubuntu/.local/lib/python3.8/site-packages (from requests[socks]->gdown) (3.1.0)\n",
      "Requirement already satisfied: idna<4,>=2.5 in /usr/lib/python3/dist-packages (from requests[socks]->gdown) (2.8)\n",
      "Requirement already satisfied: PySocks!=1.5.7,>=1.5.6 in /home/ubuntu/.local/lib/python3.8/site-packages (from requests[socks]->gdown) (1.7.1)\n",
      "\n",
      "\u001b[1m[\u001b[0m\u001b[34;49mnotice\u001b[0m\u001b[1;39;49m]\u001b[0m\u001b[39;49m A new release of pip is available: \u001b[0m\u001b[31;49m23.0.1\u001b[0m\u001b[39;49m -> \u001b[0m\u001b[32;49m23.1.2\u001b[0m\n",
      "\u001b[1m[\u001b[0m\u001b[34;49mnotice\u001b[0m\u001b[1;39;49m]\u001b[0m\u001b[39;49m To update, run: \u001b[0m\u001b[32;49mpython3 -m pip install --upgrade pip\u001b[0m\n",
      "spider.zip\n"
     ]
    },
    {
     "name": "stderr",
     "output_type": "stream",
     "text": [
      "Downloading...\n",
      "From (uriginal): https://drive.google.com/uc?export=download&id=1TqleXec_OykOYFREKKtschzY29dUcVAQ\n",
      "From (redirected): https://drive.google.com/uc?export=download&id=1TqleXec_OykOYFREKKtschzY29dUcVAQ&confirm=t&uuid=5c77024e-47a4-41a1-8ccd-526477ab75ce\n",
      "To: /home/ubuntu/w266_project/spider.zip\n",
      "100%|██████████| 99.7M/99.7M [00:00<00:00, 115MB/s] \n"
     ]
    },
    {
     "data": {
      "text/plain": [
       "'spider.zip'"
      ]
     },
     "execution_count": 22,
     "metadata": {},
     "output_type": "execute_result"
    }
   ],
   "source": [
    "# download spider dataset\n",
    "!pip install gdown\n",
    "import gdown\n",
    "\n",
    "URL = \"https://drive.google.com/uc?export=download&id=1TqleXec_OykOYFREKKtschzY29dUcVAQ\"\n",
    "\n",
    "output = 'spider.zip'\n",
    "print(output)\n",
    "gdown.download(URL, output, quiet=False)"
   ]
  },
  {
   "cell_type": "code",
   "execution_count": 23,
   "metadata": {
    "id": "tpkja3V-T5LI"
   },
   "outputs": [],
   "source": [
    "%%capture\n",
    "!unzip spider.zip"
   ]
  },
  {
   "cell_type": "code",
   "execution_count": 1,
   "metadata": {
    "colab": {
     "base_uri": "https://localhost:8080/"
    },
    "id": "shkeZuvgTltE",
    "outputId": "b73135f1-fd9f-43e7-ef45-b30ec86cc6b0"
   },
   "outputs": [
    {
     "name": "stdout",
     "output_type": "stream",
     "text": [
      "mkdir: cannot create directory ‘third_party’: File exists\n",
      "/home/ubuntu/w266_project/third_party\n",
      "Cloning into 'spider'...\n",
      "remote: Enumerating objects: 383, done.\u001b[K\n",
      "remote: Counting objects: 100% (27/27), done.\u001b[K\n",
      "remote: Compressing objects: 100% (14/14), done.\u001b[K\n",
      "remote: Total 383 (delta 17), reused 13 (delta 13), pack-reused 356\u001b[K\n",
      "Receiving objects: 100% (383/383), 44.93 MiB | 17.07 MiB/s, done.\n",
      "Resolving deltas: 100% (111/111), done.\n",
      "Cloning into 'soft-prompt-tuning'...\n",
      "remote: Enumerating objects: 33, done.\u001b[K\n",
      "remote: Counting objects: 100% (33/33), done.\u001b[K\n",
      "remote: Compressing objects: 100% (26/26), done.\u001b[K\n",
      "remote: Total 33 (delta 13), reused 20 (delta 6), pack-reused 0\u001b[K\n",
      "Unpacking objects: 100% (33/33), 42.58 KiB | 1.15 MiB/s, done.\n"
     ]
    }
   ],
   "source": [
    "# setup third_party repo\n",
    "%mkdir third_party\n",
    "%cd third_party\n",
    "!git clone https://github.com/taoyds/spider.git\n",
    "# !git clone https://github.com/HKUNLP/UnifiedSKG.git\n",
    "!git clone https://github.com/kipgparker/soft-prompt-tuning.git\n",
    "%mv soft-prompt-tuning soft_prompt_tuning"
   ]
  },
  {
   "cell_type": "code",
   "execution_count": null,
   "metadata": {},
   "outputs": [],
   "source": []
  }
 ],
 "metadata": {
  "kernelspec": {
   "display_name": "Python 3",
   "language": "python",
   "name": "python3"
  },
  "language_info": {
   "codemirror_mode": {
    "name": "ipython",
    "version": 3
   },
   "file_extension": ".py",
   "mimetype": "text/x-python",
   "name": "python",
   "nbconvert_exporter": "python",
   "pygments_lexer": "ipython3",
   "version": "3.8.10"
  }
 },
 "nbformat": 4,
 "nbformat_minor": 0
}
