{
  "cells": [
    {
      "cell_type": "markdown",
      "metadata": {
        "id": "view-in-github",
        "colab_type": "text"
      },
      "source": [
        "<a href=\"https://colab.research.google.com/github/roxyrong/w266_project/blob/main/t5_finetune_text_to_sql.ipynb\" target=\"_parent\"><img src=\"https://colab.research.google.com/assets/colab-badge.svg\" alt=\"Open In Colab\"/></a>"
      ]
    },
    {
      "cell_type": "code",
      "execution_count": null,
      "metadata": {
        "id": "rZJNzUdXJLqb"
      },
      "outputs": [],
      "source": [
        "%%capture\n",
        "!pip install transformers\n",
        "!pip install sentencepiece\n",
        "!pip install accelerate -U"
      ]
    },
    {
      "cell_type": "code",
      "execution_count": null,
      "metadata": {
        "colab": {
          "base_uri": "https://localhost:8080/"
        },
        "id": "LA6NMt2BQ1pY",
        "outputId": "be2784a7-7511-4b64-9afa-15c9278f69af"
      },
      "outputs": [
        {
          "name": "stdout",
          "output_type": "stream",
          "text": [
            "Drive already mounted at /content/drive; to attempt to forcibly remount, call drive.mount(\"/content/drive\", force_remount=True).\n"
          ]
        }
      ],
      "source": [
        "from google.colab import drive\n",
        "drive.mount('/content/drive')"
      ]
    },
    {
      "cell_type": "code",
      "execution_count": null,
      "metadata": {
        "colab": {
          "base_uri": "https://localhost:8080/"
        },
        "id": "NrxT7ulwR19d",
        "outputId": "300263a3-f5af-4c7f-e5be-148cd107362f"
      },
      "outputs": [
        {
          "name": "stdout",
          "output_type": "stream",
          "text": [
            "/content/drive/MyDrive/Github/w266_project\n"
          ]
        }
      ],
      "source": [
        "%cd /content/drive/MyDrive/Github/w266_project\n",
        "\n",
        "import sys\n",
        "project_path = '/content/drive/MyDrive/Github/w266_project'\n",
        "sys.path.append(project_path)"
      ]
    },
    {
      "cell_type": "code",
      "execution_count": null,
      "metadata": {
        "id": "SPQuxy9_H0HP"
      },
      "outputs": [],
      "source": [
        "import os\n",
        "import subprocess\n",
        "import numpy as np\n",
        "import pandas as pd\n",
        "import nltk\n",
        "import torch\n",
        "from transformers import T5Tokenizer, T5ForConditionalGeneration\n",
        "from transformers import Seq2SeqTrainingArguments, Seq2SeqTrainer"
      ]
    },
    {
      "cell_type": "code",
      "execution_count": null,
      "metadata": {
        "colab": {
          "base_uri": "https://localhost:8080/"
        },
        "id": "1cEvN9aDomCK",
        "outputId": "90104d69-65db-4681-e036-d16d9b2a2791"
      },
      "outputs": [
        {
          "name": "stderr",
          "output_type": "stream",
          "text": [
            "[nltk_data] Downloading package punkt to /root/nltk_data...\n",
            "[nltk_data]   Unzipping tokenizers/punkt.zip.\n"
          ]
        },
        {
          "data": {
            "text/plain": [
              "True"
            ]
          },
          "execution_count": 8,
          "metadata": {},
          "output_type": "execute_result"
        }
      ],
      "source": [
        "# for evaluation\n",
        "nltk.download('punkt')"
      ]
    },
    {
      "cell_type": "code",
      "execution_count": null,
      "metadata": {
        "id": "bg4qdsH5JKX5"
      },
      "outputs": [],
      "source": [
        "from third_party.spider.process_sql import Schema, get_sql, get_schema"
      ]
    },
    {
      "cell_type": "code",
      "execution_count": null,
      "metadata": {
        "id": "zva6eKoPH7j1"
      },
      "outputs": [],
      "source": [
        "# datasets\n",
        "with open('spider/train_spider.json', 'r') as f:\n",
        "    train_spider = pd.read_json(f)\n",
        "with open('spider/train_others.json', 'r') as f:\n",
        "    others_spider = pd.read_json(f)\n",
        "with open('spider/dev.json', 'r') as f:\n",
        "    dev_spider = pd.read_json(f)"
      ]
    },
    {
      "cell_type": "code",
      "execution_count": null,
      "metadata": {
        "id": "3iYPW9ODH80T"
      },
      "outputs": [],
      "source": [
        "# load schema for all tables\n",
        "with open('spider/tables.json', 'r') as f:\n",
        "    schema_df = pd.read_json(f)\n",
        "\n",
        "db_dir = f\"spider/database\"\n",
        "schema_dict = {}\n",
        "for idx, row in schema_df.iterrows():\n",
        "    db = row['db_id']\n",
        "    db_path = os.path.join(db_dir, db, db + \".sqlite\")\n",
        "    schema = str(get_schema(db_path))\n",
        "    schema_dict[db] = schema"
      ]
    },
    {
      "cell_type": "code",
      "execution_count": null,
      "metadata": {
        "id": "gZPZvrTWH-LC"
      },
      "outputs": [],
      "source": [
        "# shuffle the dataset\n",
        "\n",
        "train_spider = train_spider.iloc[np.random.permutation(train_spider.index)].reset_index(drop=True)\n",
        "others_spider = train_spider.iloc[np.random.permutation(others_spider.index)].reset_index(drop=True)"
      ]
    },
    {
      "cell_type": "markdown",
      "metadata": {
        "id": "1Ja3AjYzL0Ao"
      },
      "source": [
        "# Model Architecture"
      ]
    },
    {
      "cell_type": "code",
      "execution_count": null,
      "metadata": {
        "id": "an2hxxSuH_6g"
      },
      "outputs": [],
      "source": [
        "# construct prompt\n",
        "\n",
        "prefix = 'translate English to SQL:'\n",
        "train_spider['schema'] = train_spider['db_id'].map(schema_dict)\n",
        "train_spider['prompt'] = prefix + train_spider['question'] + '\\nDatabse schema is ' + train_spider['schema']\n",
        "others_spider['schema'] = others_spider['db_id'].map(schema_dict)\n",
        "others_spider['prompt'] = prefix + others_spider['question'] + '\\nDatabse schema is ' + others_spider['schema']\n",
        "dev_spider['schema'] = dev_spider['db_id'].map(schema_dict)\n",
        "dev_spider['prompt'] = prefix + dev_spider['question'] + '\\nDatabse schema is ' + dev_spider['schema']"
      ]
    },
    {
      "cell_type": "code",
      "execution_count": null,
      "metadata": {
        "id": "hizv4iaEIg1T"
      },
      "outputs": [],
      "source": [
        "def preprocess_data(text_pair, tokenizer, max_length=128):\n",
        "    orig_text, target_text = text_pair\n",
        "    orig_encoded = tokenizer.batch_encode_plus(\n",
        "        [orig_text],\n",
        "        max_length=max_length,\n",
        "        padding='max_length',\n",
        "        truncation=True,\n",
        "        return_attention_mask=True,\n",
        "        return_tensors='pt'\n",
        "    )\n",
        "\n",
        "    orig_input_ids = orig_encoded['input_ids'][0]\n",
        "    orig_attention_mask = orig_encoded['attention_mask'][0]\n",
        "\n",
        "    target_encoded = tokenizer.batch_encode_plus(\n",
        "        [target_text],\n",
        "        max_length=max_length,\n",
        "        padding='max_length',\n",
        "        truncation=True,\n",
        "        return_attention_mask=True,\n",
        "        return_tensors='pt'\n",
        "    )\n",
        "\n",
        "    label_ids = target_encoded['input_ids'][0]\n",
        "\n",
        "    return {'input_ids': orig_input_ids,\n",
        "            'attention_mask': orig_attention_mask,\n",
        "            'labels': label_ids}"
      ]
    },
    {
      "cell_type": "code",
      "execution_count": null,
      "metadata": {
        "id": "_9IiV9LXIkkD"
      },
      "outputs": [],
      "source": [
        "class TranslationDataIterator:\n",
        "\n",
        "    def __init__(self,\n",
        "                 df,\n",
        "                 tokenizer,\n",
        "                 max_load_at_once,\n",
        "                 max_length=128,\n",
        "                 shuffle=True):\n",
        "\n",
        "        self.df = df\n",
        "        self.tokenizer = tokenizer\n",
        "        self.n_examples = len(df)\n",
        "        self.max_load_at_once = max_load_at_once\n",
        "        self.max_length = max_length\n",
        "        self.shuffle = shuffle\n",
        "\n",
        "        # Initialize row order, call on_epoch_end to shuffle row indices\n",
        "        self.row_order = np.arange(1, self.n_examples+1)\n",
        "        self.on_epoch_end()\n",
        "\n",
        "        # Load first chunk of max_load_at_once examples\n",
        "        self.df_curr_loaded = self._load_next_chunk(0)\n",
        "        self.curr_idx_in_load = 0\n",
        "\n",
        "    def _load_next_chunk(self, idx):\n",
        "        load_start = idx\n",
        "        load_end = idx + self.max_load_at_once\n",
        "\n",
        "        # Indices to skip are the ones in the shuffled row_order before and\n",
        "        # after the chunk we'll use for this chunk\n",
        "        self.df_curr_loaded = self.df.iloc[load_start:load_end].sample(frac=1)\n",
        "\n",
        "    def __len__(self):\n",
        "        return self.n_examples\n",
        "\n",
        "    def __getitem__(self, idx):\n",
        "        if self.df_curr_loaded is None or self.curr_idx_in_load >= len(self.df_curr_loaded):\n",
        "            self._load_next_chunk(idx)\n",
        "            self.curr_idx_in_load = 0\n",
        "\n",
        "        text_pair = self.df_curr_loaded[['prompt', 'query']].values.astype(str)[self.curr_idx_in_load]\n",
        "        self.curr_idx_in_load += 1\n",
        "\n",
        "        item_data = preprocess_data(\n",
        "            text_pair,\n",
        "            self.tokenizer,\n",
        "            self.max_length\n",
        "        )\n",
        "\n",
        "        return item_data\n",
        "\n",
        "    def __call__(self):\n",
        "        for i in range(self.__len__()):\n",
        "            yield self.__getitem__(i)\n",
        "\n",
        "            if i == self.__len__()-1:\n",
        "                self.on_epoch_end()\n",
        "\n",
        "    def on_epoch_end(self):\n",
        "        if self.shuffle:\n",
        "            self.row_order = list(np.random.permutation(self.row_order))"
      ]
    },
    {
      "cell_type": "markdown",
      "metadata": {
        "id": "TmEu_mBcL8zW"
      },
      "source": [
        "# Model Training"
      ]
    },
    {
      "cell_type": "code",
      "execution_count": null,
      "metadata": {
        "id": "U2FgTQubLjp9"
      },
      "outputs": [],
      "source": [
        "%%capture\n",
        "\n",
        "tokenizer = T5Tokenizer.from_pretrained(\"t5-base\")\n",
        "model = T5ForConditionalGeneration.from_pretrained(\"t5-base\")"
      ]
    },
    {
      "cell_type": "code",
      "execution_count": null,
      "metadata": {
        "id": "gZ4pWEZ8ImOU"
      },
      "outputs": [],
      "source": [
        "max_length = 512\n",
        "max_load_at_once = 100\n",
        "\n",
        "train_data_iterator = TranslationDataIterator(\n",
        "    df=train_spider,\n",
        "    tokenizer=tokenizer,\n",
        "    max_load_at_once=max_load_at_once,\n",
        "    max_length=max_length\n",
        ")\n",
        "\n",
        "valid_data_iterator = TranslationDataIterator(\n",
        "    df=others_spider,\n",
        "    tokenizer=tokenizer,\n",
        "    max_load_at_once=max_load_at_once,\n",
        "    max_length=max_length\n",
        ")"
      ]
    },
    {
      "cell_type": "code",
      "execution_count": null,
      "metadata": {
        "id": "d7r9oQcVInfU"
      },
      "outputs": [],
      "source": [
        "batch_size = 16\n",
        "\n",
        "train_path = project_path + '/t5base-finetuned-spider'\n",
        "\n",
        "args = Seq2SeqTrainingArguments(\n",
        "    train_path,\n",
        "    evaluation_strategy='epoch',\n",
        "    per_device_train_batch_size=batch_size,\n",
        "    per_device_eval_batch_size=batch_size,\n",
        "    num_train_epochs=3,\n",
        ")"
      ]
    },
    {
      "cell_type": "code",
      "execution_count": null,
      "metadata": {
        "id": "fWGwZQFhIo0_"
      },
      "outputs": [],
      "source": [
        "trainer = Seq2SeqTrainer(\n",
        "    model,\n",
        "    args,\n",
        "    train_dataset=train_data_iterator,\n",
        "    eval_dataset=valid_data_iterator\n",
        ")"
      ]
    },
    {
      "cell_type": "code",
      "execution_count": null,
      "metadata": {
        "colab": {
          "base_uri": "https://localhost:8080/",
          "height": 204
        },
        "id": "gr-QshK9IqBj",
        "outputId": "5a6741ea-3aa9-4275-a0d3-5caea544baa2"
      },
      "outputs": [
        {
          "data": {
            "text/html": [
              "\n",
              "    <div>\n",
              "      \n",
              "      <progress value='1314' max='1314' style='width:300px; height:20px; vertical-align: middle;'></progress>\n",
              "      [1314/1314 24:28, Epoch 3/3]\n",
              "    </div>\n",
              "    <table border=\"1\" class=\"dataframe\">\n",
              "  <thead>\n",
              " <tr style=\"text-align: left;\">\n",
              "      <th>Epoch</th>\n",
              "      <th>Training Loss</th>\n",
              "      <th>Validation Loss</th>\n",
              "    </tr>\n",
              "  </thead>\n",
              "  <tbody>\n",
              "    <tr>\n",
              "      <td>1</td>\n",
              "      <td>No log</td>\n",
              "      <td>0.038602</td>\n",
              "    </tr>\n",
              "    <tr>\n",
              "      <td>2</td>\n",
              "      <td>0.184700</td>\n",
              "      <td>0.028071</td>\n",
              "    </tr>\n",
              "    <tr>\n",
              "      <td>3</td>\n",
              "      <td>0.040300</td>\n",
              "      <td>0.025201</td>\n",
              "    </tr>\n",
              "  </tbody>\n",
              "</table><p>"
            ],
            "text/plain": [
              "<IPython.core.display.HTML object>"
            ]
          },
          "metadata": {},
          "output_type": "display_data"
        },
        {
          "data": {
            "text/plain": [
              "TrainOutput(global_step=1314, training_loss=0.09416797498589781, metrics={'train_runtime': 1470.0904, 'train_samples_per_second': 14.285, 'train_steps_per_second': 0.894, 'total_flos': 1.280760235425792e+16, 'train_loss': 0.09416797498589781, 'epoch': 3.0})"
            ]
          },
          "execution_count": 33,
          "metadata": {},
          "output_type": "execute_result"
        }
      ],
      "source": [
        "# start from scratch\n",
        "trainer.train()\n",
        "\n",
        "# start from a checkpoint\n",
        "# trainer.train(resume_from_checkpoint= model_path + '/checkpoint-1000')"
      ]
    },
    {
      "cell_type": "code",
      "execution_count": null,
      "metadata": {
        "id": "iz6CbDO2Vd6k"
      },
      "outputs": [],
      "source": [
        "model_path = train_path + '/t5base-finetuned'\n",
        "trainer.save_model(model_path)"
      ]
    },
    {
      "cell_type": "markdown",
      "metadata": {
        "id": "-Cp4TIpG27hA"
      },
      "source": [
        "# Evaluation"
      ]
    },
    {
      "cell_type": "code",
      "execution_count": null,
      "metadata": {
        "id": "QwK5m6fAZ_vM"
      },
      "outputs": [],
      "source": [
        "finetune_model = T5ForConditionalGeneration.from_pretrained(model_path)"
      ]
    },
    {
      "cell_type": "code",
      "execution_count": null,
      "metadata": {
        "colab": {
          "background_save": true
        },
        "id": "Q4perd2zXmzG"
      },
      "outputs": [],
      "source": [
        "# evaluate\n",
        "max_length = 128\n",
        "\n",
        "inputs = tokenizer.batch_encode_plus(\n",
        "        list(dev_spider['prompt']),\n",
        "        max_length=max_length,\n",
        "        padding='max_length',\n",
        "        truncation=True,\n",
        "        return_attention_mask=True,\n",
        "        return_tensors='pt'\n",
        "    )\n",
        "\n",
        "output_tokens = finetune_model.generate(\n",
        "    input_ids=inputs[\"input_ids\"],\n",
        "    attention_mask=inputs[\"attention_mask\"],\n",
        "    max_length=128\n",
        ")\n",
        "\n",
        "outputs = [tokenizer.decode(i, skip_special_tokens=True) for i in output_tokens]"
      ]
    },
    {
      "cell_type": "code",
      "execution_count": null,
      "metadata": {
        "colab": {
          "background_save": true
        },
        "id": "3r5R4IuOgI7r"
      },
      "outputs": [],
      "source": [
        "with open('t5base-finetuned-spider/predicted_result.txt', 'a') as f:\n",
        "    for idx, output in enumerate(outputs):\n",
        "        db_id = dev_spider.iloc[idx]['db_id']\n",
        "        f.write(output + '\\t' + db_id + '\\n')"
      ]
    },
    {
      "cell_type": "code",
      "execution_count": null,
      "metadata": {
        "colab": {
          "background_save": true
        },
        "id": "nv7ZpIoaajtw"
      },
      "outputs": [],
      "source": [
        "# evaluate results\n",
        "eval_path = f\"third_party/spider/evaluation.py\"\n",
        "gold = f\"third_party/spider/evaluation_examples/gold_example.txt\"\n",
        "pred = f\"t5base-finetuned-spider/predicted_result.txt\"\n",
        "db_dir = f\"spider/database\"\n",
        "table = f\"spider/tables.json\"\n",
        "etype = \"all\"\n",
        "\n",
        "cmd_str = f\"python3 \\\"{eval_path}\\\" --gold \\\"{gold}\\\" --pred \\\"{pred}\\\" --db \\\"{db_dir}\\\" --table \\\"{table}\\\" --etype {etype} \"\n",
        "result = subprocess.run(cmd_str, shell=True, capture_output=True, text=True)"
      ]
    },
    {
      "cell_type": "code",
      "execution_count": 63,
      "metadata": {
        "colab": {
          "base_uri": "https://localhost:8080/"
        },
        "id": "hh4yyml1jMbY",
        "outputId": "22c76ab6-32c6-461d-8642-566de9b1a116"
      },
      "outputs": [
        {
          "output_type": "stream",
          "name": "stdout",
          "text": [
            "('                     easy                 medium               '\n",
            " 'hard                 extra                all                 \\n'\n",
            " 'count                250                  440                  '\n",
            " '174                  170                  1034                \\n'\n",
            " '=====================   EXECUTION ACCURACY     =====================\\n'\n",
            " 'execution            0.484                0.209                '\n",
            " '0.126                0.047                0.235               \\n'\n",
            " '\\n'\n",
            " '====================== EXACT MATCHING ACCURACY =====================\\n'\n",
            " 'exact match          0.484                0.207                '\n",
            " '0.115                0.029                0.229               \\n'\n",
            " '\\n'\n",
            " '---------------------PARTIAL MATCHING ACCURACY----------------------\\n'\n",
            " 'select               0.902                0.789                '\n",
            " '0.940                0.810                0.852               \\n'\n",
            " 'select(no AGG)       0.925                0.809                '\n",
            " '0.940                0.810                0.868               \\n'\n",
            " 'where                0.707                0.490                '\n",
            " '0.263                0.160                0.494               \\n'\n",
            " 'where(no OP)         0.732                0.520                '\n",
            " '0.368                0.200                0.535               \\n'\n",
            " 'group(no Having)     0.000                0.423                '\n",
            " '0.640                0.583                0.450               \\n'\n",
            " 'group                0.000                0.404                '\n",
            " '0.640                0.417                0.420               \\n'\n",
            " 'order                0.615                0.545                '\n",
            " '0.593                0.722                0.606               \\n'\n",
            " 'and/or               1.000                0.948                '\n",
            " '0.912                0.873                0.942               \\n'\n",
            " 'IUEN                 0.000                0.000                '\n",
            " '1.000                0.000                0.800               \\n'\n",
            " 'keywords             0.741                0.622                '\n",
            " '0.578                0.381                0.623               \\n'\n",
            " '---------------------- PARTIAL MATCHING RECALL ----------------------\\n'\n",
            " 'select               0.628                0.375                '\n",
            " '0.362                0.200                0.405               \\n'\n",
            " 'select(no AGG)       0.644                0.384                '\n",
            " '0.362                0.200                0.413               \\n'\n",
            " 'where                0.537                0.275                '\n",
            " '0.109                0.041                0.254               \\n'\n",
            " 'where(no OP)         0.556                0.292                '\n",
            " '0.152                0.051                0.275               \\n'\n",
            " 'group(no Having)     0.000                0.168                '\n",
            " '0.410                0.089                0.167               \\n'\n",
            " 'group                0.000                0.160                '\n",
            " '0.410                0.063                0.156               \\n'\n",
            " 'order                0.727                0.240                '\n",
            " '0.271                0.160                0.266               \\n'\n",
            " 'and/or               0.992                0.998                '\n",
            " '0.975                0.973                0.989               \\n'\n",
            " 'IUEN                 0.000                0.000                '\n",
            " '0.095                0.000                0.051               \\n'\n",
            " 'keywords             0.553                0.288                '\n",
            " '0.213                0.094                0.281               \\n'\n",
            " '---------------------- PARTIAL MATCHING F1 --------------------------\\n'\n",
            " 'select               0.741                0.508                '\n",
            " '0.523                0.321                0.549               \\n'\n",
            " 'select(no AGG)       0.759                0.521                '\n",
            " '0.523                0.321                0.560               \\n'\n",
            " 'where                0.611                0.353                '\n",
            " '0.154                0.065                0.336               \\n'\n",
            " 'where(no OP)         0.632                0.374                '\n",
            " '0.215                0.081                0.363               \\n'\n",
            " 'group(no Having)     1.000                0.240                '\n",
            " '0.500                0.154                0.244               \\n'\n",
            " 'group                1.000                0.230                '\n",
            " '0.500                0.110                0.228               \\n'\n",
            " 'order                0.667                0.333                '\n",
            " '0.372                0.263                0.370               \\n'\n",
            " 'and/or               0.996                0.972                '\n",
            " '0.942                0.921                0.965               \\n'\n",
            " 'IUEN                 1.000                1.000                '\n",
            " '0.174                1.000                0.096               \\n'\n",
            " 'keywords             0.634                0.393                '\n",
            " '0.311                0.151                0.387               \\n')\n"
          ]
        }
      ],
      "source": [
        "import pprint\n",
        "pprint.pprint(result.stdout[-4633:])"
      ]
    }
  ],
  "metadata": {
    "accelerator": "GPU",
    "colab": {
      "machine_shape": "hm",
      "provenance": [],
      "mount_file_id": "19SJtj7tXgAaSzdXN7BLyigbLRY5DKb-Q",
      "authorship_tag": "ABX9TyOi3d+XT6y5wx5fUSGSQ1aN",
      "include_colab_link": true
    },
    "kernelspec": {
      "display_name": "Python 3",
      "name": "python3"
    },
    "language_info": {
      "name": "python"
    }
  },
  "nbformat": 4,
  "nbformat_minor": 0
}