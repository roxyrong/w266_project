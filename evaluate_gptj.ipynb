{
 "cells": [
  {
   "cell_type": "code",
   "execution_count": 3,
   "id": "d007af5b-7430-4fba-bb9a-00b6cc6d7d09",
   "metadata": {},
   "outputs": [
    {
     "name": "stderr",
     "output_type": "stream",
     "text": [
      "[nltk_data] Downloading package punkt to /home/ubuntu/nltk_data...\n",
      "[nltk_data]   Package punkt is already up-to-date!\n"
     ]
    },
    {
     "data": {
      "text/plain": [
       "True"
      ]
     },
     "execution_count": 3,
     "metadata": {},
     "output_type": "execute_result"
    }
   ],
   "source": [
    "import numpy as np\n",
    "import pandas as pd\n",
    "import gc\n",
    "import nltk\n",
    "import torch\n",
    "from transformers import AutoTokenizer, AutoModelForCausalLM\n",
    "\n",
    "from gpt_j.dataset import load_spider_datasets\n",
    "from gpt_j.gpt_j import GPTJForCausalLM\n",
    "from t5.inference import evaluate_result\n",
    "nltk.download('punkt')"
   ]
  },
  {
   "cell_type": "code",
   "execution_count": 4,
   "id": "64d66922-27a3-4f2f-89ec-dfdb7acb02cd",
   "metadata": {},
   "outputs": [],
   "source": [
    "_, _, dev_spider = load_spider_datasets()"
   ]
  },
  {
   "cell_type": "code",
   "execution_count": 5,
   "id": "b2f7b9b5-16e0-408a-84c9-1d75c6e1189c",
   "metadata": {},
   "outputs": [],
   "source": [
    "# parameters\n",
    "\n",
    "tokenizer_name = 'EleutherAI/gpt-j-6B'\n",
    "base_model_name = \"hivemind/gpt-j-6B-8bit\"\n",
    "result_path = f'results/predicted_result_gptj_base.txt'"
   ]
  },
  {
   "cell_type": "code",
   "execution_count": null,
   "id": "4f7e97c2-a9ba-489a-8196-c0cf85e0657c",
   "metadata": {},
   "outputs": [],
   "source": [
    "# model\n",
    "\n",
    "tokenizer = AutoTokenizer.from_pretrained(\"EleutherAI/gpt-j-6B\", padding_side=\"left\")\n",
    "tokenizer.add_special_tokens({'pad_token': tokenizer.eos_token})\n",
    "model = GPTJForCausalLM.from_pretrained(\"hivemind/gpt-j-6B-8bit\", low_cpu_mem_usage=True)\n",
    "model = model.to(\"cuda\")"
   ]
  },
  {
   "cell_type": "code",
   "execution_count": null,
   "id": "c371bc1d-8b09-429c-9de6-9e26861d97f9",
   "metadata": {},
   "outputs": [],
   "source": [
    "step = 10\n",
    "\n",
    "for idx in range(0, 1040, step):\n",
    "    gc.collect()\n",
    "    torch.cuda.empty_cache()\n",
    "    \n",
    "    print(idx)\n",
    "    # Tokenize prompt, load to GPU with model\n",
    "    inputs = tokenizer(list(dev_spider.iloc[idx:idx+step]['prompt']), \n",
    "                      padding=True, \n",
    "                      truncation=True,\n",
    "                      return_tensors=\"pt\", \n",
    "                      )\n",
    "    inputs = {k: v.to(\"cuda\") for k, v in inputs.items()}\n",
    "\n",
    "    output_tokens = model.generate(\n",
    "        input_ids=inputs[\"input_ids\"],\n",
    "        temperature=0.1,\n",
    "        max_new_tokens=128,\n",
    "        do_sample=False,\n",
    "        early_stopping=True\n",
    "        )\n",
    "    output_text = tokenizer.batch_decode(output_tokens, skip_special_tokens=True)\n",
    "    \n",
    "    # parse outputs from prompt\n",
    "    outputs = []\n",
    "    for text in output_text:\n",
    "        gen_tokens_post_few_shot = text.split('Answer:')[-1]\n",
    "        extracted_string = gen_tokens_post_few_shot.split('###')[0]\n",
    "        extracted_string = extracted_string.strip()\n",
    "        outputs.append(extracted_string)\n",
    "\n",
    "    with open(result_path, 'a', encoding='utf-8') as f:\n",
    "        for idx, output in enumerate(outputs):\n",
    "            db_id = dev_spider.iloc[idx]['db_id']\n",
    "            f.write(output + '\\t' + db_id + '\\n')"
   ]
  },
  {
   "cell_type": "code",
   "execution_count": null,
   "id": "8095d0dd-c45c-4a91-9795-d2eaffb97ed2",
   "metadata": {},
   "outputs": [],
   "source": [
    "evaluate_result(result_path)"
   ]
  },
  {
   "cell_type": "code",
   "execution_count": null,
   "id": "783f784b-ddde-46bf-aa10-a3f8b660d4dc",
   "metadata": {},
   "outputs": [],
   "source": []
  }
 ],
 "metadata": {
  "kernelspec": {
   "display_name": "Python 3",
   "language": "python",
   "name": "python3"
  },
  "language_info": {
   "codemirror_mode": {
    "name": "ipython",
    "version": 3
   },
   "file_extension": ".py",
   "mimetype": "text/x-python",
   "name": "python",
   "nbconvert_exporter": "python",
   "pygments_lexer": "ipython3",
   "version": "3.8.10"
  }
 },
 "nbformat": 4,
 "nbformat_minor": 5
}
