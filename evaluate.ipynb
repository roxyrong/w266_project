{
 "cells": [
  {
   "cell_type": "code",
   "execution_count": 1,
   "metadata": {},
   "outputs": [
    {
     "name": "stderr",
     "output_type": "stream",
     "text": [
      "/home/roxyrong/anaconda3/envs/xlang/lib/python3.9/site-packages/tqdm/auto.py:21: TqdmWarning: IProgress not found. Please update jupyter and ipywidgets. See https://ipywidgets.readthedocs.io/en/stable/user_install.html\n",
      "  from .autonotebook import tqdm as notebook_tqdm\n"
     ]
    }
   ],
   "source": [
    "import nltk\n",
    "import torch\n",
    "from transformers import T5Tokenizer, AutoModelForSeq2SeqLM\n",
    "from peft import PeftConfig, PeftModel\n",
    "from t5.dataset import load_spider_datasets\n",
    "from t5.inference import inference, evaluate_result"
   ]
  },
  {
   "cell_type": "code",
   "execution_count": null,
   "metadata": {},
   "outputs": [],
   "source": [
    "print(torch.cuda.is_available())"
   ]
  },
  {
   "cell_type": "code",
   "execution_count": null,
   "metadata": {},
   "outputs": [],
   "source": [
    "nltk.download('punkt')"
   ]
  },
  {
   "cell_type": "code",
   "execution_count": null,
   "metadata": {},
   "outputs": [],
   "source": [
    "# parameters\n",
    "\n",
    "tokenizer_name = 't5-base'\n",
    "base_model_name = \"RoxyRong/t5_base_finetuned_test_10\"\n",
    "peft_model_name = \"RoxyRong/t5_base_soft_prompt_vocab_sampling\"\n",
    "result_path = f'results/predicted_result_t5_base_finetuned_10.txt'\n",
    "\n",
    "eval_soft_prompt = False"
   ]
  },
  {
   "cell_type": "code",
   "execution_count": null,
   "metadata": {},
   "outputs": [],
   "source": [
    "# evaluate \n",
    "\n",
    "tokenizer = T5Tokenizer.from_pretrained(tokenizer_name)\n",
    "model = AutoModelForSeq2SeqLM.from_pretrained(base_model_name)\n",
    "\n",
    "if eval_soft_prompt:\n",
    "    peft_model_id = peft_model_name\n",
    "    config = PeftConfig.from_pretrained(peft_model_id)\n",
    "    model = AutoModelForSeq2SeqLM.from_pretrained(\"RoxyRong/t5_base_finetuned_test_5\")\n",
    "    model = PeftModel.from_pretrained(model, peft_model_id)\n",
    "\n",
    "model = model.to(\"cuda\")"
   ]
  },
  {
   "cell_type": "code",
   "execution_count": null,
   "metadata": {},
   "outputs": [],
   "source": [
    "# load dataset\n",
    "_, _, dev_spider = load_spider_datasets()"
   ]
  },
  {
   "cell_type": "code",
   "execution_count": null,
   "metadata": {},
   "outputs": [],
   "source": [
    "# inference\n",
    "inference(dev_spider, model, tokenizer, result_path)"
   ]
  },
  {
   "cell_type": "code",
   "execution_count": null,
   "metadata": {},
   "outputs": [],
   "source": [
    "# evaluate \n",
    "evaluate_result(result_path)"
   ]
  }
 ],
 "metadata": {
  "kernelspec": {
   "display_name": "xlang",
   "language": "python",
   "name": "python3"
  },
  "language_info": {
   "codemirror_mode": {
    "name": "ipython",
    "version": 3
   },
   "file_extension": ".py",
   "mimetype": "text/x-python",
   "name": "python",
   "nbconvert_exporter": "python",
   "pygments_lexer": "ipython3",
   "version": "3.9.16"
  },
  "orig_nbformat": 4
 },
 "nbformat": 4,
 "nbformat_minor": 2
}
