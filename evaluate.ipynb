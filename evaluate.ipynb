{
 "cells": [
  {
   "cell_type": "code",
   "execution_count": 1,
   "metadata": {},
   "outputs": [
    {
     "name": "stderr",
     "output_type": "stream",
     "text": [
      "/home/ubuntu/.local/lib/python3.8/site-packages/pandas/core/computation/expressions.py:20: UserWarning: Pandas requires version '2.7.3' or newer of 'numexpr' (version '2.7.1' currently installed).\n",
      "  from pandas.core.computation.check import NUMEXPR_INSTALLED\n"
     ]
    }
   ],
   "source": [
    "import nltk\n",
    "import torch\n",
    "from transformers import T5Tokenizer, AutoModelForSeq2SeqLM\n",
    "from peft import PeftConfig, PeftModel\n",
    "from t5.dataset import load_spider_datasets\n",
    "from t5.inference import inference, evaluate_result"
   ]
  },
  {
   "cell_type": "code",
   "execution_count": 2,
   "metadata": {},
   "outputs": [
    {
     "name": "stdout",
     "output_type": "stream",
     "text": [
      "True\n"
     ]
    }
   ],
   "source": [
    "print(torch.cuda.is_available())"
   ]
  },
  {
   "cell_type": "code",
   "execution_count": 3,
   "metadata": {},
   "outputs": [
    {
     "name": "stderr",
     "output_type": "stream",
     "text": [
      "[nltk_data] Downloading package punkt to /home/ubuntu/nltk_data...\n",
      "[nltk_data]   Package punkt is already up-to-date!\n"
     ]
    },
    {
     "data": {
      "text/plain": [
       "True"
      ]
     },
     "execution_count": 3,
     "metadata": {},
     "output_type": "execute_result"
    }
   ],
   "source": [
    "nltk.download('punkt')"
   ]
  },
  {
   "cell_type": "code",
   "execution_count": 9,
   "metadata": {},
   "outputs": [],
   "source": [
    "# parameters\n",
    "\n",
    "tokenizer_name = 't5-base'\n",
    "base_model_name = \"RoxyRong/t5_base_finetuned_test_5\"\n",
    "peft_model_name = \"RoxyRong/t5_base_soft_prompt_tune_v3\"\n",
    "result_path = f'results/predicted_result_t5_base_finetuned_v3.txt'\n",
    "\n",
    "eval_soft_prompt = True"
   ]
  },
  {
   "cell_type": "code",
   "execution_count": 5,
   "metadata": {},
   "outputs": [
    {
     "name": "stderr",
     "output_type": "stream",
     "text": [
      "You are using the legacy behaviour of the <class 'transformers.models.t5.tokenization_t5.T5Tokenizer'>. This means that tokens that come after special tokens will not be properly handled. We recommend you to read the related pull request available at https://github.com/huggingface/transformers/pull/24565\n",
      "/home/ubuntu/.local/lib/python3.8/site-packages/transformers/models/t5/tokenization_t5_fast.py:155: FutureWarning: This tokenizer was incorrectly instantiated with a model max length of 512 which will be corrected in Transformers v5.\n",
      "For now, this behavior is kept to avoid breaking backwards compatibility when padding/encoding with `truncation is True`.\n",
      "- Be aware that you SHOULD NOT rely on t5-base automatically truncating your input to 512 when padding/encoding.\n",
      "- If you want to encode/pad to sequences longer than 512 you can either instantiate this tokenizer with `model_max_length` or pass `max_length` when encoding/padding.\n",
      "- To avoid this warning, please instantiate this tokenizer with `model_max_length` set to your preferred value.\n",
      "  warnings.warn(\n",
      "Token indices sequence length is longer than the specified maximum sequence length for this model (613 > 512). Running this sequence through the model will result in indexing errors\n"
     ]
    }
   ],
   "source": [
    "# evaluate \n",
    "\n",
    "tokenizer = T5Tokenizer.from_pretrained(tokenizer_name, model_max_length=512)\n",
    "model = AutoModelForSeq2SeqLM.from_pretrained(base_model_name)\n",
    "\n",
    "# if eval_soft_prompt:\n",
    "peft_model_id = peft_model_name\n",
    "config = PeftConfig.from_pretrained(peft_model_id)\n",
    "model = PeftModel.from_pretrained(model, peft_model_id)\n",
    "\n",
    "model = model.to(\"cuda\")"
   ]
  },
  {
   "cell_type": "code",
   "execution_count": 6,
   "metadata": {},
   "outputs": [],
   "source": [
    "# load dataset\n",
    "_, _, dev_spider = load_spider_datasets()"
   ]
  },
  {
   "cell_type": "code",
   "execution_count": 10,
   "metadata": {},
   "outputs": [
    {
     "name": "stdout",
     "output_type": "stream",
     "text": [
      "0\n",
      "100\n",
      "200\n",
      "300\n",
      "400\n",
      "500\n",
      "600\n",
      "700\n",
      "800\n",
      "900\n",
      "1000\n"
     ]
    }
   ],
   "source": [
    "# inference\n",
    "inference(dev_spider, model, tokenizer, result_path)"
   ]
  },
  {
   "cell_type": "code",
   "execution_count": 11,
   "metadata": {},
   "outputs": [
    {
     "name": "stdout",
     "output_type": "stream",
     "text": [
      "('                     easy                 medium               '\n",
      " 'hard                 extra                all                 \\n'\n",
      " 'count                250                  440                  '\n",
      " '174                  170                  1034                \\n'\n",
      " '=====================   EXECUTION ACCURACY     =====================\\n'\n",
      " 'execution            0.588                0.380                '\n",
      " '0.282                0.176                0.380               \\n'\n",
      " '\\n'\n",
      " '====================== EXACT MATCHING ACCURACY =====================\\n'\n",
      " 'exact match          0.632                0.384                '\n",
      " '0.276                0.135                0.385               \\n'\n",
      " '\\n'\n",
      " '---------------------PARTIAL MATCHING ACCURACY----------------------\\n'\n",
      " 'select               0.960                0.923                '\n",
      " '0.987                0.882                0.940               \\n'\n",
      " 'select(no AGG)       0.977                0.940                '\n",
      " '1.000                0.882                0.955               \\n'\n",
      " 'where                0.918                0.846                '\n",
      " '0.531                0.565                0.784               \\n'\n",
      " 'where(no OP)         0.934                0.859                '\n",
      " '0.625                0.739                0.830               \\n'\n",
      " 'group(no Having)     0.824                0.846                '\n",
      " '0.857                0.759                0.829               \\n'\n",
      " 'group                0.824                0.808                '\n",
      " '0.857                0.724                0.803               \\n'\n",
      " 'order                0.692                0.723                '\n",
      " '0.818                0.774                0.752               \\n'\n",
      " 'and/or               1.000                0.952                '\n",
      " '0.895                0.870                0.941               \\n'\n",
      " 'IUEN                 0.000                0.000                '\n",
      " '0.700                0.667                0.562               \\n'\n",
      " 'keywords             0.891                0.885                '\n",
      " '0.811                0.706                0.851               \\n'\n",
      " '---------------------- PARTIAL MATCHING RECALL ----------------------\\n'\n",
      " 'select               0.672                0.489                '\n",
      " '0.437                0.265                0.487               \\n'\n",
      " 'select(no AGG)       0.684                0.498                '\n",
      " '0.443                0.265                0.495               \\n'\n",
      " 'where                0.519                0.371                '\n",
      " '0.185                0.133                0.319               \\n'\n",
      " 'where(no OP)         0.528                0.376                '\n",
      " '0.217                0.173                0.338               \\n'\n",
      " 'group(no Having)     0.700                0.504                '\n",
      " '0.615                0.278                0.468               \\n'\n",
      " 'group                0.700                0.481                '\n",
      " '0.615                0.266                0.454               \\n'\n",
      " 'order                0.818                0.453                '\n",
      " '0.458                0.296                0.435               \\n'\n",
      " 'and/or               1.000                0.993                '\n",
      " '0.987                0.993                0.994               \\n'\n",
      " 'IUEN                 0.000                0.000                '\n",
      " '0.167                0.056                0.115               \\n'\n",
      " 'keywords             0.600                0.454                '\n",
      " '0.345                0.212                0.410               \\n'\n",
      " '---------------------- PARTIAL MATCHING F1 --------------------------\\n'\n",
      " 'select               0.791                0.639                '\n",
      " '0.606                0.407                0.642               \\n'\n",
      " 'select(no AGG)       0.805                0.651                '\n",
      " '0.614                0.407                0.652               \\n'\n",
      " 'where                0.663                0.516                '\n",
      " '0.274                0.215                0.454               \\n'\n",
      " 'where(no OP)         0.675                0.523                '\n",
      " '0.323                0.281                0.481               \\n'\n",
      " 'group(no Having)     0.757                0.632                '\n",
      " '0.716                0.407                0.599               \\n'\n",
      " 'group                0.757                0.603                '\n",
      " '0.716                0.389                0.580               \\n'\n",
      " 'order                0.750                0.557                '\n",
      " '0.587                0.429                0.551               \\n'\n",
      " 'and/or               1.000                0.972                '\n",
      " '0.939                0.927                0.967               \\n'\n",
      " 'IUEN                 1.000                1.000                '\n",
      " '0.269                0.103                0.191               \\n'\n",
      " 'keywords             0.717                0.600                '\n",
      " '0.484                0.326                0.553               \\n')\n"
     ]
    }
   ],
   "source": [
    "# evaluate \n",
    "evaluate_result(result_path)"
   ]
  },
  {
   "cell_type": "code",
   "execution_count": 56,
   "metadata": {},
   "outputs": [
    {
     "name": "stdout",
     "output_type": "stream",
     "text": [
      "('                     easy                 medium               '\n",
      " 'hard                 extra                all                 \\n'\n",
      " 'count                250                  440                  '\n",
      " '174                  170                  1034                \\n'\n",
      " '=====================   EXECUTION ACCURACY     =====================\\n'\n",
      " 'execution            0.588                0.380                '\n",
      " '0.282                0.176                0.380               \\n'\n",
      " '\\n'\n",
      " '====================== EXACT MATCHING ACCURACY =====================\\n'\n",
      " 'exact match          0.632                0.384                '\n",
      " '0.276                0.135                0.385               \\n'\n",
      " '\\n'\n",
      " '---------------------PARTIAL MATCHING ACCURACY----------------------\\n'\n",
      " 'select               0.960                0.923                '\n",
      " '0.987                0.882                0.940               \\n'\n",
      " 'select(no AGG)       0.977                0.940                '\n",
      " '1.000                0.882                0.955               \\n'\n",
      " 'where                0.918                0.846                '\n",
      " '0.531                0.565                0.784               \\n'\n",
      " 'where(no OP)         0.934                0.859                '\n",
      " '0.625                0.739                0.830               \\n'\n",
      " 'group(no Having)     0.824                0.846                '\n",
      " '0.857                0.759                0.829               \\n'\n",
      " 'group                0.824                0.808                '\n",
      " '0.857                0.724                0.803               \\n'\n",
      " 'order                0.692                0.723                '\n",
      " '0.818                0.774                0.752               \\n'\n",
      " 'and/or               1.000                0.952                '\n",
      " '0.895                0.870                0.941               \\n'\n",
      " 'IUEN                 0.000                0.000                '\n",
      " '0.700                0.667                0.562               \\n'\n",
      " 'keywords             0.891                0.885                '\n",
      " '0.811                0.706                0.851               \\n'\n",
      " '---------------------- PARTIAL MATCHING RECALL ----------------------\\n'\n",
      " 'select               0.672                0.489                '\n",
      " '0.437                0.265                0.487               \\n'\n",
      " 'select(no AGG)       0.684                0.498                '\n",
      " '0.443                0.265                0.495               \\n'\n",
      " 'where                0.519                0.371                '\n",
      " '0.185                0.133                0.319               \\n'\n",
      " 'where(no OP)         0.528                0.376                '\n",
      " '0.217                0.173                0.338               \\n'\n",
      " 'group(no Having)     0.700                0.504                '\n",
      " '0.615                0.278                0.468               \\n'\n",
      " 'group                0.700                0.481                '\n",
      " '0.615                0.266                0.454               \\n'\n",
      " 'order                0.818                0.453                '\n",
      " '0.458                0.296                0.435               \\n'\n",
      " 'and/or               1.000                0.993                '\n",
      " '0.987                0.993                0.994               \\n'\n",
      " 'IUEN                 0.000                0.000                '\n",
      " '0.167                0.056                0.115               \\n'\n",
      " 'keywords             0.600                0.454                '\n",
      " '0.345                0.212                0.410               \\n'\n",
      " '---------------------- PARTIAL MATCHING F1 --------------------------\\n'\n",
      " 'select               0.791                0.639                '\n",
      " '0.606                0.407                0.642               \\n'\n",
      " 'select(no AGG)       0.805                0.651                '\n",
      " '0.614                0.407                0.652               \\n'\n",
      " 'where                0.663                0.516                '\n",
      " '0.274                0.215                0.454               \\n'\n",
      " 'where(no OP)         0.675                0.523                '\n",
      " '0.323                0.281                0.481               \\n'\n",
      " 'group(no Having)     0.757                0.632                '\n",
      " '0.716                0.407                0.599               \\n'\n",
      " 'group                0.757                0.603                '\n",
      " '0.716                0.389                0.580               \\n'\n",
      " 'order                0.750                0.557                '\n",
      " '0.587                0.429                0.551               \\n'\n",
      " 'and/or               1.000                0.972                '\n",
      " '0.939                0.927                0.967               \\n'\n",
      " 'IUEN                 1.000                1.000                '\n",
      " '0.269                0.103                0.191               \\n'\n",
      " 'keywords             0.717                0.600                '\n",
      " '0.484                0.326                0.553               \\n')\n"
     ]
    }
   ],
   "source": [
    "import subprocess\n",
    "import pprint\n",
    "\n",
    "eval_path = f\"third_party/spider/evaluation.py\"\n",
    "gold = f\"third_party/spider/evaluation_examples/gold_example.txt\"\n",
    "pred = result_path\n",
    "db_dir = f\"spider/database\"\n",
    "table = f\"spider/tables.json\"\n",
    "etype = \"all\"\n",
    "\n",
    "cmd_str = f\"python3 \\\"{eval_path}\\\" --gold \\\"{gold}\\\" --pred \\\"{pred}\\\" --db \\\"{db_dir}\\\" --table \\\"{table}\\\" --etype {etype} \"\n",
    "result = subprocess.run(cmd_str, shell=True, capture_output=True, text=True)\n",
    "pprint.pprint(result.stdout[-4633:])"
   ]
  },
  {
   "cell_type": "code",
   "execution_count": 31,
   "metadata": {},
   "outputs": [],
   "source": [
    "label_embedding = []\n",
    "for query in dev_spider['query']:\n",
    "    tokens = tokenizer.tokenize(query)\n",
    "    inputs = tokenizer.encode(\n",
    "        query,\n",
    "        max_length=100,\n",
    "        padding='max_length',\n",
    "        truncation=True,\n",
    "        return_attention_mask=False,\n",
    "        return_tensors='pt'\n",
    "    )\n",
    "    embedding = inputs.float()\n",
    "    label_embedding.append(embedding)\n",
    "    "
   ]
  },
  {
   "cell_type": "code",
   "execution_count": 18,
   "metadata": {},
   "outputs": [],
   "source": [
    "query = dev_spider.iloc[0]['query']\n",
    "tokens = tokenizer.tokenize(query)\n",
    "inputs = tokenizer.encode(\n",
    "    query,\n",
    "    max_length=100,\n",
    "    padding='max_length',\n",
    "    truncation=True,\n",
    "    return_attention_mask=False,\n",
    "    return_tensors='pt'\n",
    ")"
   ]
  },
  {
   "cell_type": "code",
   "execution_count": 32,
   "metadata": {},
   "outputs": [],
   "source": []
  },
  {
   "cell_type": "code",
   "execution_count": 33,
   "metadata": {},
   "outputs": [
    {
     "data": {
      "text/plain": [
       "tensor([[7.6830e+01, 2.2278e+04, 1.3605e+04, 3.1774e+03, 5.6087e+03, 7.4438e+03,\n",
       "         4.6589e+03, 7.2769e+03, 4.7087e+03, 5.5371e+03, 5.1068e+03, 4.7747e+03,\n",
       "         5.0000e+03, 4.6756e+03, 4.4861e+03, 5.3498e+03, 4.5753e+03, 3.9869e+03,\n",
       "         4.6533e+03, 4.0747e+03, 3.7121e+03, 3.9079e+03, 3.7692e+03, 3.0347e+03,\n",
       "         3.3331e+03, 2.7068e+03, 2.4735e+03, 2.8643e+03, 2.5881e+03, 2.6125e+03,\n",
       "         2.4479e+03, 2.2896e+03, 1.5905e+03, 2.3633e+03, 1.9401e+03, 1.4892e+03,\n",
       "         2.2747e+03, 1.7833e+03, 1.5376e+03, 1.9648e+03, 1.8355e+03, 1.6025e+03,\n",
       "         1.5095e+03, 1.4514e+03, 1.3454e+03, 1.2976e+03, 1.5645e+03, 1.5560e+03,\n",
       "         1.2821e+03, 1.2193e+03, 1.1046e+03, 1.4017e+03, 1.2231e+03, 1.0214e+03,\n",
       "         8.8721e+02, 9.6897e+02, 1.2687e+03, 9.9763e+02, 9.4790e+02, 9.8317e+02,\n",
       "         9.3616e+02, 1.0790e+03, 8.0039e+02, 6.7364e+02, 4.9599e+02, 8.0332e+02,\n",
       "         5.6892e+02, 6.6995e+02, 5.0928e+02, 6.1764e+02, 6.0084e+02, 5.9382e+02,\n",
       "         5.3180e+02, 5.0104e+02, 4.7304e+02, 4.4759e+02, 4.6471e+02, 3.7545e+02,\n",
       "         3.4089e+02, 2.7943e+02, 3.2715e+02, 3.2267e+02, 3.4173e+02, 3.2140e+02,\n",
       "         2.7165e+02, 2.3817e+02, 2.9438e+02, 2.2337e+02, 2.7145e+02, 1.9489e+02,\n",
       "         1.0790e+02, 1.9810e+02, 2.7600e+02, 3.4402e+02, 1.5315e+02, 1.1658e+02,\n",
       "         1.0639e+02, 1.5479e+02, 9.2449e+01, 4.0619e-02]])"
      ]
     },
     "execution_count": 33,
     "metadata": {},
     "output_type": "execute_result"
    }
   ],
   "source": [
    "average_embeddings"
   ]
  },
  {
   "cell_type": "code",
   "execution_count": null,
   "metadata": {},
   "outputs": [],
   "source": []
  }
 ],
 "metadata": {
  "kernelspec": {
   "display_name": "Python 3",
   "language": "python",
   "name": "python3"
  },
  "language_info": {
   "codemirror_mode": {
    "name": "ipython",
    "version": 3
   },
   "file_extension": ".py",
   "mimetype": "text/x-python",
   "name": "python",
   "nbconvert_exporter": "python",
   "pygments_lexer": "ipython3",
   "version": "3.8.10"
  }
 },
 "nbformat": 4,
 "nbformat_minor": 2
}
