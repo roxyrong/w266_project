{
  "nbformat": 4,
  "nbformat_minor": 0,
  "metadata": {
    "colab": {
      "provenance": [],
      "authorship_tag": "ABX9TyMslrSoSubkKGk/QvdJUSe8",
      "include_colab_link": true
    },
    "kernelspec": {
      "name": "python3",
      "display_name": "Python 3"
    },
    "language_info": {
      "name": "python"
    }
  },
  "cells": [
    {
      "cell_type": "markdown",
      "metadata": {
        "id": "view-in-github",
        "colab_type": "text"
      },
      "source": [
        "<a href=\"https://colab.research.google.com/github/roxyrong/w266_project/blob/main/project_setup.ipynb\" target=\"_parent\"><img src=\"https://colab.research.google.com/assets/colab-badge.svg\" alt=\"Open In Colab\"/></a>"
      ]
    },
    {
      "cell_type": "code",
      "execution_count": null,
      "metadata": {
        "colab": {
          "base_uri": "https://localhost:8080/"
        },
        "id": "KNhrnsT_Tdao",
        "outputId": "b1656867-b060-454f-d532-8db221242705"
      },
      "outputs": [
        {
          "output_type": "stream",
          "name": "stdout",
          "text": [
            "Mounted at /content/drive\n"
          ]
        }
      ],
      "source": [
        "# mount to Colab\n",
        "from google.colab import drive\n",
        "drive.mount('/content/drive')"
      ]
    },
    {
      "cell_type": "code",
      "source": [
        "# download existing repo\n",
        "%cd /content/drive/MyDrive/Github\n",
        "!git clone https://github.com/roxyrong/w266_project.git\n",
        "%cd w266_project"
      ],
      "metadata": {
        "id": "OF0fsC9RTidH",
        "colab": {
          "base_uri": "https://localhost:8080/"
        },
        "outputId": "ea61b3df-2d46-4b63-b72c-b55ae5937647"
      },
      "execution_count": null,
      "outputs": [
        {
          "output_type": "stream",
          "name": "stdout",
          "text": [
            "/content/drive/MyDrive/Github\n",
            "fatal: destination path 'w266_project' already exists and is not an empty directory.\n",
            "/content/drive/MyDrive/Github/w266_project\n"
          ]
        }
      ]
    },
    {
      "cell_type": "code",
      "source": [
        "# setup third_party repo\n",
        "%mkdir third_party\n",
        "%cd third_party\n",
        "# !git clone https://github.com/taoyds/spider.git\n",
        "# !git clone https://github.com/HKUNLP/UnifiedSKG.git\n",
        "!git clone https://github.com/kipgparker/soft-prompt-tuning.git\n",
        "%mv soft-prompt-tuning soft_prompt_tuning"
      ],
      "metadata": {
        "id": "shkeZuvgTltE",
        "colab": {
          "base_uri": "https://localhost:8080/"
        },
        "outputId": "b73135f1-fd9f-43e7-ef45-b30ec86cc6b0"
      },
      "execution_count": null,
      "outputs": [
        {
          "output_type": "stream",
          "name": "stdout",
          "text": [
            "/content/drive/MyDrive/Github/w266_project/third_party/third_party\n",
            "Cloning into 'soft-prompt-tuning'...\n",
            "remote: Enumerating objects: 33, done.\u001b[K\n",
            "remote: Counting objects: 100% (33/33), done.\u001b[K\n",
            "remote: Compressing objects: 100% (26/26), done.\u001b[K\n",
            "remote: Total 33 (delta 13), reused 20 (delta 6), pack-reused 0\u001b[K\n",
            "Unpacking objects: 100% (33/33), 42.58 KiB | 78.00 KiB/s, done.\n"
          ]
        }
      ]
    },
    {
      "cell_type": "code",
      "source": [
        "# download spider dataset\n",
        "import gdown\n",
        "\n",
        "URL = \"https://drive.google.com/uc?export=download&id=1TqleXec_OykOYFREKKtschzY29dUcVAQ\"\n",
        "\n",
        "output = 'spider.zip'\n",
        "print(output)\n",
        "gdown.download(URL, output, quiet=False)"
      ],
      "metadata": {
        "id": "E3R-RKFITpLq"
      },
      "execution_count": null,
      "outputs": []
    },
    {
      "cell_type": "code",
      "source": [
        "%%capture\n",
        "!unzip spider.zip"
      ],
      "metadata": {
        "id": "tpkja3V-T5LI"
      },
      "execution_count": null,
      "outputs": []
    }
  ]
}