{
 "cells": [
  {
   "cell_type": "markdown",
   "metadata": {
    "colab_type": "text",
    "id": "view-in-github"
   },
   "source": [
    "<a href=\"https://colab.research.google.com/github/roxyrong/w266_project/blob/main/project_setup.ipynb\" target=\"_parent\"><img src=\"https://colab.research.google.com/assets/colab-badge.svg\" alt=\"Open In Colab\"/></a>"
   ]
  },
  {
   "cell_type": "code",
   "execution_count": null,
   "metadata": {
    "colab": {
     "base_uri": "https://localhost:8080/"
    },
    "id": "KNhrnsT_Tdao",
    "outputId": "b1656867-b060-454f-d532-8db221242705"
   },
   "outputs": [
    {
     "name": "stdout",
     "output_type": "stream",
     "text": [
      "Mounted at /content/drive\n"
     ]
    }
   ],
   "source": [
    "# mount to Colab\n",
    "from google.colab import drive\n",
    "drive.mount('/content/drive')"
   ]
  },
  {
   "cell_type": "code",
   "execution_count": null,
   "metadata": {
    "colab": {
     "base_uri": "https://localhost:8080/"
    },
    "id": "OF0fsC9RTidH",
    "outputId": "ea61b3df-2d46-4b63-b72c-b55ae5937647"
   },
   "outputs": [
    {
     "name": "stdout",
     "output_type": "stream",
     "text": [
      "/content/drive/MyDrive/Github\n",
      "fatal: destination path 'w266_project' already exists and is not an empty directory.\n",
      "/content/drive/MyDrive/Github/w266_project\n"
     ]
    }
   ],
   "source": [
    "# download existing repo\n",
    "%cd /content/drive/MyDrive/Github\n",
    "!git clone https://github.com/roxyrong/w266_project.git\n",
    "%cd w266_project"
   ]
  },
  {
   "cell_type": "code",
   "execution_count": null,
   "metadata": {
    "colab": {
     "base_uri": "https://localhost:8080/"
    },
    "id": "shkeZuvgTltE",
    "outputId": "b73135f1-fd9f-43e7-ef45-b30ec86cc6b0"
   },
   "outputs": [
    {
     "name": "stdout",
     "output_type": "stream",
     "text": [
      "/content/drive/MyDrive/Github/w266_project/third_party/third_party\n",
      "Cloning into 'soft-prompt-tuning'...\n",
      "remote: Enumerating objects: 33, done.\u001b[K\n",
      "remote: Counting objects: 100% (33/33), done.\u001b[K\n",
      "remote: Compressing objects: 100% (26/26), done.\u001b[K\n",
      "remote: Total 33 (delta 13), reused 20 (delta 6), pack-reused 0\u001b[K\n",
      "Unpacking objects: 100% (33/33), 42.58 KiB | 78.00 KiB/s, done.\n"
     ]
    }
   ],
   "source": [
    "# setup third_party repo\n",
    "%mkdir third_party\n",
    "%cd third_party\n",
    "# !git clone https://github.com/taoyds/spider.git\n",
    "# !git clone https://github.com/HKUNLP/UnifiedSKG.git\n",
    "!git clone https://github.com/kipgparker/soft-prompt-tuning.git\n",
    "%mv soft-prompt-tuning soft_prompt_tuning"
   ]
  },
  {
   "cell_type": "code",
   "execution_count": null,
   "metadata": {
    "id": "E3R-RKFITpLq"
   },
   "outputs": [],
   "source": [
    "# download spider dataset\n",
    "import gdown\n",
    "\n",
    "URL = \"https://drive.google.com/uc?export=download&id=1TqleXec_OykOYFREKKtschzY29dUcVAQ\"\n",
    "\n",
    "output = 'spider.zip'\n",
    "print(output)\n",
    "gdown.download(URL, output, quiet=False)"
   ]
  },
  {
   "cell_type": "code",
   "execution_count": null,
   "metadata": {
    "id": "tpkja3V-T5LI"
   },
   "outputs": [],
   "source": [
    "%%capture\n",
    "!unzip spider.zip"
   ]
  }
 ],
 "metadata": {
  "colab": {
   "authorship_tag": "ABX9TyMslrSoSubkKGk/QvdJUSe8",
   "include_colab_link": true,
   "provenance": []
  },
  "kernelspec": {
   "display_name": "Python 3",
   "name": "python3"
  },
  "language_info": {
   "name": "python"
  }
 },
 "nbformat": 4,
 "nbformat_minor": 0
}
